{
 "cells": [
  {
   "cell_type": "code",
   "execution_count": 226,
   "metadata": {},
   "outputs": [],
   "source": [
    "import matplotlib.pyplot as plt\n",
    "import numpy as np\n",
    "import pandas as pd\n",
    "import os\n",
    "import seaborn as sns\n"
   ]
  },
  {
   "cell_type": "code",
   "execution_count": 227,
   "metadata": {},
   "outputs": [],
   "source": [
    "from sklearn.linear_model import LinearRegression\n",
    "from sklearn.model_selection import (\n",
    "    GridSearchCV,\n",
    "    RandomizedSearchCV,\n",
    "    cross_val_score,\n",
    "    cross_validate,\n",
    "    train_test_split,\n",
    ")\n",
    "from sklearn.pipeline import Pipeline, make_pipeline\n",
    "from sklearn.preprocessing import OneHotEncoder, OrdinalEncoder, StandardScaler\n",
    "from sklearn.compose import ColumnTransformer, make_column_transformer\n",
    "from sklearn.impute import SimpleImputer\n"
   ]
  },
  {
   "cell_type": "code",
   "execution_count": 228,
   "metadata": {},
   "outputs": [
    {
     "data": {
      "text/plain": [
       "'C:\\\\Users\\\\jonah\\\\Documents\\\\DataScienceBlogpostProject\\\\data'"
      ]
     },
     "execution_count": 228,
     "metadata": {},
     "output_type": "execute_result"
    }
   ],
   "source": [
    "os.getcwd()"
   ]
  },
  {
   "cell_type": "code",
   "execution_count": 229,
   "metadata": {},
   "outputs": [],
   "source": [
    "path=\"C:\\\\Users\\\\jonah\\\\Documents\\\\DataScienceBlogpostProject\\\\data\"\n",
    "os.chdir(path)"
   ]
  },
  {
   "cell_type": "code",
   "execution_count": 230,
   "metadata": {},
   "outputs": [
    {
     "data": {
      "text/plain": [
       "'C:\\\\Users\\\\jonah\\\\Documents\\\\DataScienceBlogpostProject\\\\data'"
      ]
     },
     "execution_count": 230,
     "metadata": {},
     "output_type": "execute_result"
    }
   ],
   "source": [
    "os.getcwd()"
   ]
  },
  {
   "cell_type": "markdown",
   "metadata": {},
   "source": [
    "# Question 1: Which months are the busiest?"
   ]
  },
  {
   "cell_type": "markdown",
   "metadata": {},
   "source": [
    "I'm first interested in what the data trend looks like over time. Are there more listings every month as new hosts enter the market? Does it vary strongly by season?"
   ]
  },
  {
   "cell_type": "code",
   "execution_count": 231,
   "metadata": {},
   "outputs": [],
   "source": [
    "cal_df = pd.read_csv(\"calendar.csv\")\n",
    "list_df = pd.read_csv(\"listings.csv\")"
   ]
  },
  {
   "cell_type": "markdown",
   "metadata": {},
   "source": [
    "`cal_df` is a dataframe of all listings, whether they're available for each day of the year, and their price if so.\n",
    "\n",
    "Are they marked by whether they're booked? Doesn't look like it; `available` is just if they can be booked at all. "
   ]
  },
  {
   "cell_type": "code",
   "execution_count": 232,
   "metadata": {},
   "outputs": [
    {
     "data": {
      "text/html": [
       "<div>\n",
       "<style scoped>\n",
       "    .dataframe tbody tr th:only-of-type {\n",
       "        vertical-align: middle;\n",
       "    }\n",
       "\n",
       "    .dataframe tbody tr th {\n",
       "        vertical-align: top;\n",
       "    }\n",
       "\n",
       "    .dataframe thead th {\n",
       "        text-align: right;\n",
       "    }\n",
       "</style>\n",
       "<table border=\"1\" class=\"dataframe\">\n",
       "  <thead>\n",
       "    <tr style=\"text-align: right;\">\n",
       "      <th></th>\n",
       "      <th>listing_id</th>\n",
       "      <th>date</th>\n",
       "      <th>available</th>\n",
       "      <th>price</th>\n",
       "    </tr>\n",
       "  </thead>\n",
       "  <tbody>\n",
       "    <tr>\n",
       "      <th>0</th>\n",
       "      <td>241032</td>\n",
       "      <td>2016-01-04</td>\n",
       "      <td>True</td>\n",
       "      <td>85.0</td>\n",
       "    </tr>\n",
       "    <tr>\n",
       "      <th>1</th>\n",
       "      <td>241032</td>\n",
       "      <td>2016-01-05</td>\n",
       "      <td>True</td>\n",
       "      <td>85.0</td>\n",
       "    </tr>\n",
       "    <tr>\n",
       "      <th>2</th>\n",
       "      <td>241032</td>\n",
       "      <td>2016-01-06</td>\n",
       "      <td>False</td>\n",
       "      <td>NaN</td>\n",
       "    </tr>\n",
       "    <tr>\n",
       "      <th>3</th>\n",
       "      <td>241032</td>\n",
       "      <td>2016-01-07</td>\n",
       "      <td>False</td>\n",
       "      <td>NaN</td>\n",
       "    </tr>\n",
       "    <tr>\n",
       "      <th>4</th>\n",
       "      <td>241032</td>\n",
       "      <td>2016-01-08</td>\n",
       "      <td>False</td>\n",
       "      <td>NaN</td>\n",
       "    </tr>\n",
       "    <tr>\n",
       "      <th>...</th>\n",
       "      <td>...</td>\n",
       "      <td>...</td>\n",
       "      <td>...</td>\n",
       "      <td>...</td>\n",
       "    </tr>\n",
       "    <tr>\n",
       "      <th>1393565</th>\n",
       "      <td>10208623</td>\n",
       "      <td>2016-12-29</td>\n",
       "      <td>False</td>\n",
       "      <td>NaN</td>\n",
       "    </tr>\n",
       "    <tr>\n",
       "      <th>1393566</th>\n",
       "      <td>10208623</td>\n",
       "      <td>2016-12-30</td>\n",
       "      <td>False</td>\n",
       "      <td>NaN</td>\n",
       "    </tr>\n",
       "    <tr>\n",
       "      <th>1393567</th>\n",
       "      <td>10208623</td>\n",
       "      <td>2016-12-31</td>\n",
       "      <td>False</td>\n",
       "      <td>NaN</td>\n",
       "    </tr>\n",
       "    <tr>\n",
       "      <th>1393568</th>\n",
       "      <td>10208623</td>\n",
       "      <td>2017-01-01</td>\n",
       "      <td>False</td>\n",
       "      <td>NaN</td>\n",
       "    </tr>\n",
       "    <tr>\n",
       "      <th>1393569</th>\n",
       "      <td>10208623</td>\n",
       "      <td>2017-01-02</td>\n",
       "      <td>False</td>\n",
       "      <td>NaN</td>\n",
       "    </tr>\n",
       "  </tbody>\n",
       "</table>\n",
       "<p>1393570 rows × 4 columns</p>\n",
       "</div>"
      ],
      "text/plain": [
       "         listing_id       date  available  price\n",
       "0            241032 2016-01-04       True   85.0\n",
       "1            241032 2016-01-05       True   85.0\n",
       "2            241032 2016-01-06      False    NaN\n",
       "3            241032 2016-01-07      False    NaN\n",
       "4            241032 2016-01-08      False    NaN\n",
       "...             ...        ...        ...    ...\n",
       "1393565    10208623 2016-12-29      False    NaN\n",
       "1393566    10208623 2016-12-30      False    NaN\n",
       "1393567    10208623 2016-12-31      False    NaN\n",
       "1393568    10208623 2017-01-01      False    NaN\n",
       "1393569    10208623 2017-01-02      False    NaN\n",
       "\n",
       "[1393570 rows x 4 columns]"
      ]
     },
     "execution_count": 232,
     "metadata": {},
     "output_type": "execute_result"
    }
   ],
   "source": [
    "# turning `available` into a boolean:\n",
    "cal_df_tf = cal_df\n",
    "cal_df = cal_df.replace(\"t\", True)\n",
    "cal_df = cal_df.replace(\"f\", False)\n",
    "# turning price to float\n",
    "cal_df[\"price\"] = cal_df[\"price\"].replace({'\\$': '', '\\,': ''}, regex=True)\n",
    "cal_df[\"price\"] = pd.to_numeric(cal_df[\"price\"])\n",
    "cal_df[\"date\"] = pd.to_datetime(cal_df[\"date\"])\n",
    "\n",
    "cal_df"
   ]
  },
  {
   "cell_type": "code",
   "execution_count": 233,
   "metadata": {},
   "outputs": [
    {
     "data": {
      "text/plain": [
       "<matplotlib.collections.PathCollection at 0x1c425ab0430>"
      ]
     },
     "execution_count": 233,
     "metadata": {},
     "output_type": "execute_result"
    },
    {
     "data": {
      "image/png": "[encoded data removed]",
      "text/plain": [
       "<Figure size 432x288 with 1 Axes>"
      ]
     },
     "metadata": {
      "needs_background": "light"
     },
     "output_type": "display_data"
    }
   ],
   "source": [
    "# first trying a scatter plot\n",
    "plt.scatter(cal_df[\"date\"], cal_df[\"price\"], s=0.0001)\n"
   ]
  },
  {
   "cell_type": "markdown",
   "metadata": {},
   "source": [
    "Well, that's not very informative!"
   ]
  },
  {
   "cell_type": "code",
   "execution_count": 234,
   "metadata": {},
   "outputs": [
    {
     "data": {
      "text/plain": [
       "[<matplotlib.lines.Line2D at 0x1c3d66a6370>]"
      ]
     },
     "execution_count": 234,
     "metadata": {},
     "output_type": "execute_result"
    },
    {
     "data": {
      "image/png": "[encoded data removed]",
      "text/plain": [
       "<Figure size 432x288 with 1 Axes>"
      ]
     },
     "metadata": {
      "needs_background": "light"
     },
     "output_type": "display_data"
    }
   ],
   "source": [
    "# or maybe a line plot?\n",
    "plt.plot(cal_df[\"price\"])"
   ]
  },
  {
   "cell_type": "markdown",
   "metadata": {},
   "source": [
    "Neither is that! What's going on here?"
   ]
  },
  {
   "cell_type": "code",
   "execution_count": 235,
   "metadata": {},
   "outputs": [
    {
     "name": "stdout",
     "output_type": "stream",
     "text": [
      "10.0\n",
      "1650.0\n"
     ]
    }
   ],
   "source": [
    "print(cal_df[\"price\"].min())\n",
    "print(cal_df[\"price\"].max())"
   ]
  },
  {
   "cell_type": "markdown",
   "metadata": {},
   "source": [
    "Looks like we've got a very price wide range. I doubt the values are distributed evenly over [10, 1650]. I'm going to split the dataframe up into those equal to or less than $500, and those above. $500 is hardly cheap, but sounds reasonable as an upper bound to the normal range."
   ]
  },
  {
   "cell_type": "code",
   "execution_count": 236,
   "metadata": {},
   "outputs": [
    {
     "name": "stdout",
     "output_type": "stream",
     "text": [
      "11959\n",
      "922583\n"
     ]
    }
   ],
   "source": [
    "expensive_df = cal_df[cal_df[\"price\"] > 500]\n",
    "cheap_df = cal_df[cal_df[\"price\"] <= 500]\n",
    "print(len(expensive_df))\n",
    "print(len(cheap_df))"
   ]
  },
  {
   "cell_type": "markdown",
   "metadata": {},
   "source": [
    "In a histogram of all prices, it's very hard to make out any meaningful pattern because of the long right tail - a very small number of extremely high prices. \n",
    "\n",
    "As we can see above, there are 922583 entries for prices at $500 or below - still hardly cheap for many of these! Compare that to the mere 11959 samples over $500. However, with the maximum price of $1650, this spreads the price range out so wide the histogram becomes useless."
   ]
  },
  {
   "cell_type": "code",
   "execution_count": 237,
   "metadata": {},
   "outputs": [
    {
     "data": {
      "text/plain": [
       "Text(0.5, 1.0, 'Fig 3: Histogram of Seattle AirBnb Prices [limit: >$500]')"
      ]
     },
     "execution_count": 237,
     "metadata": {},
     "output_type": "execute_result"
    },
    {
     "data": {
      "image/png": "[encoded data removed]",
      "text/plain": [
       "<Figure size 1800x576 with 3 Axes>"
      ]
     },
     "metadata": {
      "needs_background": "light"
     },
     "output_type": "display_data"
    }
   ],
   "source": [
    "fig, ax = plt.subplots(1, 3, figsize = (25,8))\n",
    "\n",
    "ax[0].hist(cal_df[\"price\"], bins = 75)\n",
    "ax[0].set_xlabel(\"Price\")\n",
    "ax[0].set_ylabel(\"Count\")\n",
    "ax[0].set_title(\"Fig 1: Histogram of Seattle AirBnb Prices [full range]\")\n",
    "\n",
    "ax[1].hist(cal_df[\"price\"], bins = 75, range = [0, 500])\n",
    "ax[1].set_xlabel(\"Price\")\n",
    "ax[1].set_ylabel(\"Count\")\n",
    "ax[1].set_title(\"Fig 2: Histogram of Seattle AirBnb Prices [limit: =<$500]\")\n",
    "\n",
    "ax[2].hist(cal_df[\"price\"], bins = 75, range = [500, 1700])\n",
    "ax[2].set_xlabel(\"Price\")\n",
    "ax[2].set_ylabel(\"Count\")\n",
    "ax[2].set_title(\"Fig 3: Histogram of Seattle AirBnb Prices [limit: >$500]\")"
   ]
  },
  {
   "cell_type": "code",
   "execution_count": 238,
   "metadata": {},
   "outputs": [
    {
     "name": "stdout",
     "output_type": "stream",
     "text": [
      "137.94485855103355\n",
      "105.06287002526753\n"
     ]
    }
   ],
   "source": [
    "print(cal_df[\"price\"].mean())\n",
    "print(cal_df[\"price\"].std())"
   ]
  },
  {
   "cell_type": "markdown",
   "metadata": {},
   "source": [
    "This is borne out in Fig 1, where even 75 bins still leaves it very hard to make out any pattern in the important core of prices below $250. \n",
    "\n",
    "Fig 2 is better. We see evidence of clumping, likely at increments of $5. The peak of the distribution is around $100, with a longer right tail, and no prices below $10.\n",
    "\n",
    "Fig 3 should be read carefully - its y-axis values peak slightly above 2000, rather than suggesting a return to the same heights as Fig 2 shows at the peak of the density range. \n",
    "\n",
    "What we can conclude from these values is that the distribution is roughly normal with a mean of $138 and standard deviation of 105. Howver, it's bounded above 0, with a long right tail, and clear bunching at certain nominal values, likely multiples of 5. "
   ]
  },
  {
   "cell_type": "code",
   "execution_count": 239,
   "metadata": {},
   "outputs": [
    {
     "data": {
      "text/plain": [
       "<matplotlib.collections.PathCollection at 0x1c3d84858b0>"
      ]
     },
     "execution_count": 239,
     "metadata": {},
     "output_type": "execute_result"
    },
    {
     "data": {
      "image/png": "[encoded data removed]",
      "text/plain": [
       "<Figure size 432x288 with 1 Axes>"
      ]
     },
     "metadata": {
      "needs_background": "light"
     },
     "output_type": "display_data"
    }
   ],
   "source": [
    "# revisiting scatter plot with `cheap_df`\n",
    "\n",
    "plt.scatter(x = cheap_df[\"date\"], y=cheap_df[\"price\"])"
   ]
  },
  {
   "cell_type": "code",
   "execution_count": 240,
   "metadata": {},
   "outputs": [
    {
     "data": {
      "text/plain": [
       "Text(0.5, 1.0, 'Fig 5: Scatter Plot of Seattle AirBnb Prices [limit: =<$500]')"
      ]
     },
     "execution_count": 240,
     "metadata": {},
     "output_type": "execute_result"
    },
    {
     "data": {
      "image/png": "[encoded data removed]",
      "text/plain": [
       "<Figure size 1800x576 with 2 Axes>"
      ]
     },
     "metadata": {
      "needs_background": "light"
     },
     "output_type": "display_data"
    }
   ],
   "source": [
    "fig, ax = plt.subplots(1, 2, figsize = (25,8))\n",
    "\n",
    "ax[0].scatter(x = cheap_df[\"date\"], y=cheap_df[\"price\"])\n",
    "ax[0].set_xlabel(\"Price\")\n",
    "ax[0].set_ylabel(\"Count\")\n",
    "ax[0].set_title(\"Fig 4: Histogram of Seattle AirBnb Prices [full range]\")\n",
    "\n",
    "ax[1].scatter(x = expensive_df[\"date\"], y = expensive_df[\"price\"])\n",
    "ax[1].set_xlabel(\"Price\")\n",
    "ax[1].set_ylabel(\"Count\")\n",
    "ax[1].set_title(\"Fig 5: Scatter Plot of Seattle AirBnb Prices [limit: =<$500]\")\n"
   ]
  },
  {
   "cell_type": "markdown",
   "metadata": {},
   "source": [
    "These are incomprehensible; simply too dense to make sense of. I'm going to try a simply bar plot by month."
   ]
  },
  {
   "cell_type": "code",
   "execution_count": 241,
   "metadata": {},
   "outputs": [],
   "source": [
    "cal_df[\"month\"] = cal_df[\"date\"].dt.month\n",
    "cal_df[\"year\"] = cal_df[\"date\"].dt.year\n",
    "count_df = cal_df.groupby([\"year\", \"month\"]).count()"
   ]
  },
  {
   "cell_type": "code",
   "execution_count": 242,
   "metadata": {},
   "outputs": [
    {
     "data": {
      "text/plain": [
       "Text(0.5, 1.0, 'Count of Listing IDs by Month and Year')"
      ]
     },
     "execution_count": 242,
     "metadata": {},
     "output_type": "execute_result"
    },
    {
     "data": {
      "image/png": "[encoded data removed]",
      "text/plain": [
       "<Figure size 432x288 with 1 Axes>"
      ]
     },
     "metadata": {
      "needs_background": "light"
     },
     "output_type": "display_data"
    }
   ],
   "source": [
    "count_df[\"listing_id\"].plot()\n",
    "plt.title(\"Count of Listing IDs by Month and Year\")"
   ]
  },
  {
   "cell_type": "code",
   "execution_count": 243,
   "metadata": {},
   "outputs": [
    {
     "data": {
      "text/html": [
       "<div>\n",
       "<style scoped>\n",
       "    .dataframe tbody tr th:only-of-type {\n",
       "        vertical-align: middle;\n",
       "    }\n",
       "\n",
       "    .dataframe tbody tr th {\n",
       "        vertical-align: top;\n",
       "    }\n",
       "\n",
       "    .dataframe thead th {\n",
       "        text-align: right;\n",
       "    }\n",
       "</style>\n",
       "<table border=\"1\" class=\"dataframe\">\n",
       "  <thead>\n",
       "    <tr style=\"text-align: right;\">\n",
       "      <th></th>\n",
       "      <th></th>\n",
       "      <th>listing_id</th>\n",
       "      <th>date</th>\n",
       "      <th>available</th>\n",
       "      <th>price</th>\n",
       "    </tr>\n",
       "    <tr>\n",
       "      <th>year</th>\n",
       "      <th>month</th>\n",
       "      <th></th>\n",
       "      <th></th>\n",
       "      <th></th>\n",
       "      <th></th>\n",
       "    </tr>\n",
       "  </thead>\n",
       "  <tbody>\n",
       "    <tr>\n",
       "      <th rowspan=\"12\" valign=\"top\">2016</th>\n",
       "      <th>1</th>\n",
       "      <td>106904</td>\n",
       "      <td>106904</td>\n",
       "      <td>106904</td>\n",
       "      <td>59239</td>\n",
       "    </tr>\n",
       "    <tr>\n",
       "      <th>2</th>\n",
       "      <td>110722</td>\n",
       "      <td>110722</td>\n",
       "      <td>110722</td>\n",
       "      <td>73321</td>\n",
       "    </tr>\n",
       "    <tr>\n",
       "      <th>3</th>\n",
       "      <td>118358</td>\n",
       "      <td>118358</td>\n",
       "      <td>118358</td>\n",
       "      <td>83938</td>\n",
       "    </tr>\n",
       "    <tr>\n",
       "      <th>4</th>\n",
       "      <td>114540</td>\n",
       "      <td>114540</td>\n",
       "      <td>114540</td>\n",
       "      <td>76037</td>\n",
       "    </tr>\n",
       "    <tr>\n",
       "      <th>5</th>\n",
       "      <td>118358</td>\n",
       "      <td>118358</td>\n",
       "      <td>118358</td>\n",
       "      <td>79971</td>\n",
       "    </tr>\n",
       "    <tr>\n",
       "      <th>6</th>\n",
       "      <td>114540</td>\n",
       "      <td>114540</td>\n",
       "      <td>114540</td>\n",
       "      <td>77244</td>\n",
       "    </tr>\n",
       "    <tr>\n",
       "      <th>7</th>\n",
       "      <td>118358</td>\n",
       "      <td>118358</td>\n",
       "      <td>118358</td>\n",
       "      <td>74222</td>\n",
       "    </tr>\n",
       "    <tr>\n",
       "      <th>8</th>\n",
       "      <td>118358</td>\n",
       "      <td>118358</td>\n",
       "      <td>118358</td>\n",
       "      <td>76347</td>\n",
       "    </tr>\n",
       "    <tr>\n",
       "      <th>9</th>\n",
       "      <td>114540</td>\n",
       "      <td>114540</td>\n",
       "      <td>114540</td>\n",
       "      <td>77246</td>\n",
       "    </tr>\n",
       "    <tr>\n",
       "      <th>10</th>\n",
       "      <td>118358</td>\n",
       "      <td>118358</td>\n",
       "      <td>118358</td>\n",
       "      <td>82438</td>\n",
       "    </tr>\n",
       "    <tr>\n",
       "      <th>11</th>\n",
       "      <td>114540</td>\n",
       "      <td>114540</td>\n",
       "      <td>114540</td>\n",
       "      <td>81780</td>\n",
       "    </tr>\n",
       "    <tr>\n",
       "      <th>12</th>\n",
       "      <td>118358</td>\n",
       "      <td>118358</td>\n",
       "      <td>118358</td>\n",
       "      <td>87061</td>\n",
       "    </tr>\n",
       "    <tr>\n",
       "      <th>2017</th>\n",
       "      <th>1</th>\n",
       "      <td>7636</td>\n",
       "      <td>7636</td>\n",
       "      <td>7636</td>\n",
       "      <td>5698</td>\n",
       "    </tr>\n",
       "  </tbody>\n",
       "</table>\n",
       "</div>"
      ],
      "text/plain": [
       "            listing_id    date  available  price\n",
       "year month                                      \n",
       "2016 1          106904  106904     106904  59239\n",
       "     2          110722  110722     110722  73321\n",
       "     3          118358  118358     118358  83938\n",
       "     4          114540  114540     114540  76037\n",
       "     5          118358  118358     118358  79971\n",
       "     6          114540  114540     114540  77244\n",
       "     7          118358  118358     118358  74222\n",
       "     8          118358  118358     118358  76347\n",
       "     9          114540  114540     114540  77246\n",
       "     10         118358  118358     118358  82438\n",
       "     11         114540  114540     114540  81780\n",
       "     12         118358  118358     118358  87061\n",
       "2017 1            7636    7636       7636   5698"
      ]
     },
     "execution_count": 243,
     "metadata": {},
     "output_type": "execute_result"
    }
   ],
   "source": [
    "count_df"
   ]
  },
  {
   "cell_type": "code",
   "execution_count": 244,
   "metadata": {},
   "outputs": [
    {
     "data": {
      "text/html": [
       "<div>\n",
       "<style scoped>\n",
       "    .dataframe tbody tr th:only-of-type {\n",
       "        vertical-align: middle;\n",
       "    }\n",
       "\n",
       "    .dataframe tbody tr th {\n",
       "        vertical-align: top;\n",
       "    }\n",
       "\n",
       "    .dataframe thead th {\n",
       "        text-align: right;\n",
       "    }\n",
       "</style>\n",
       "<table border=\"1\" class=\"dataframe\">\n",
       "  <thead>\n",
       "    <tr style=\"text-align: right;\">\n",
       "      <th></th>\n",
       "      <th>year</th>\n",
       "      <th>month</th>\n",
       "      <th>listing_id</th>\n",
       "      <th>date</th>\n",
       "      <th>available</th>\n",
       "      <th>price</th>\n",
       "    </tr>\n",
       "  </thead>\n",
       "  <tbody>\n",
       "    <tr>\n",
       "      <th>0</th>\n",
       "      <td>2016</td>\n",
       "      <td>1</td>\n",
       "      <td>106904</td>\n",
       "      <td>106904</td>\n",
       "      <td>106904</td>\n",
       "      <td>59239</td>\n",
       "    </tr>\n",
       "    <tr>\n",
       "      <th>1</th>\n",
       "      <td>2016</td>\n",
       "      <td>2</td>\n",
       "      <td>110722</td>\n",
       "      <td>110722</td>\n",
       "      <td>110722</td>\n",
       "      <td>73321</td>\n",
       "    </tr>\n",
       "    <tr>\n",
       "      <th>2</th>\n",
       "      <td>2016</td>\n",
       "      <td>3</td>\n",
       "      <td>118358</td>\n",
       "      <td>118358</td>\n",
       "      <td>118358</td>\n",
       "      <td>83938</td>\n",
       "    </tr>\n",
       "    <tr>\n",
       "      <th>3</th>\n",
       "      <td>2016</td>\n",
       "      <td>4</td>\n",
       "      <td>114540</td>\n",
       "      <td>114540</td>\n",
       "      <td>114540</td>\n",
       "      <td>76037</td>\n",
       "    </tr>\n",
       "    <tr>\n",
       "      <th>4</th>\n",
       "      <td>2016</td>\n",
       "      <td>5</td>\n",
       "      <td>118358</td>\n",
       "      <td>118358</td>\n",
       "      <td>118358</td>\n",
       "      <td>79971</td>\n",
       "    </tr>\n",
       "    <tr>\n",
       "      <th>5</th>\n",
       "      <td>2016</td>\n",
       "      <td>6</td>\n",
       "      <td>114540</td>\n",
       "      <td>114540</td>\n",
       "      <td>114540</td>\n",
       "      <td>77244</td>\n",
       "    </tr>\n",
       "    <tr>\n",
       "      <th>6</th>\n",
       "      <td>2016</td>\n",
       "      <td>7</td>\n",
       "      <td>118358</td>\n",
       "      <td>118358</td>\n",
       "      <td>118358</td>\n",
       "      <td>74222</td>\n",
       "    </tr>\n",
       "    <tr>\n",
       "      <th>7</th>\n",
       "      <td>2016</td>\n",
       "      <td>8</td>\n",
       "      <td>118358</td>\n",
       "      <td>118358</td>\n",
       "      <td>118358</td>\n",
       "      <td>76347</td>\n",
       "    </tr>\n",
       "    <tr>\n",
       "      <th>8</th>\n",
       "      <td>2016</td>\n",
       "      <td>9</td>\n",
       "      <td>114540</td>\n",
       "      <td>114540</td>\n",
       "      <td>114540</td>\n",
       "      <td>77246</td>\n",
       "    </tr>\n",
       "    <tr>\n",
       "      <th>9</th>\n",
       "      <td>2016</td>\n",
       "      <td>10</td>\n",
       "      <td>118358</td>\n",
       "      <td>118358</td>\n",
       "      <td>118358</td>\n",
       "      <td>82438</td>\n",
       "    </tr>\n",
       "    <tr>\n",
       "      <th>10</th>\n",
       "      <td>2016</td>\n",
       "      <td>11</td>\n",
       "      <td>114540</td>\n",
       "      <td>114540</td>\n",
       "      <td>114540</td>\n",
       "      <td>81780</td>\n",
       "    </tr>\n",
       "    <tr>\n",
       "      <th>11</th>\n",
       "      <td>2016</td>\n",
       "      <td>12</td>\n",
       "      <td>118358</td>\n",
       "      <td>118358</td>\n",
       "      <td>118358</td>\n",
       "      <td>87061</td>\n",
       "    </tr>\n",
       "    <tr>\n",
       "      <th>12</th>\n",
       "      <td>2017</td>\n",
       "      <td>1</td>\n",
       "      <td>7636</td>\n",
       "      <td>7636</td>\n",
       "      <td>7636</td>\n",
       "      <td>5698</td>\n",
       "    </tr>\n",
       "  </tbody>\n",
       "</table>\n",
       "</div>"
      ],
      "text/plain": [
       "    year  month  listing_id    date  available  price\n",
       "0   2016      1      106904  106904     106904  59239\n",
       "1   2016      2      110722  110722     110722  73321\n",
       "2   2016      3      118358  118358     118358  83938\n",
       "3   2016      4      114540  114540     114540  76037\n",
       "4   2016      5      118358  118358     118358  79971\n",
       "5   2016      6      114540  114540     114540  77244\n",
       "6   2016      7      118358  118358     118358  74222\n",
       "7   2016      8      118358  118358     118358  76347\n",
       "8   2016      9      114540  114540     114540  77246\n",
       "9   2016     10      118358  118358     118358  82438\n",
       "10  2016     11      114540  114540     114540  81780\n",
       "11  2016     12      118358  118358     118358  87061\n",
       "12  2017      1        7636    7636       7636   5698"
      ]
     },
     "execution_count": 244,
     "metadata": {},
     "output_type": "execute_result"
    }
   ],
   "source": [
    "count_df_noindex = count_df.reset_index()\n",
    "count_df_noindex"
   ]
  },
  {
   "cell_type": "code",
   "execution_count": 245,
   "metadata": {},
   "outputs": [
    {
     "data": {
      "text/plain": [
       "13"
      ]
     },
     "execution_count": 245,
     "metadata": {},
     "output_type": "execute_result"
    }
   ],
   "source": [
    "len(count_df_noindex[\"listing_id\"])"
   ]
  },
  {
   "cell_type": "code",
   "execution_count": 246,
   "metadata": {},
   "outputs": [
    {
     "data": {
      "text/plain": [
       "Text(0.5, 1.0, 'Listings by month: By Listed Price')"
      ]
     },
     "execution_count": 246,
     "metadata": {},
     "output_type": "execute_result"
    },
    {
     "data": {
      "image/png": "[encoded data removed]",
      "text/plain": [
       "<Figure size 1440x576 with 2 Axes>"
      ]
     },
     "metadata": {
      "needs_background": "light"
     },
     "output_type": "display_data"
    }
   ],
   "source": [
    "fig, ax = plt.subplots(1, 2, figsize = (20,8))\n",
    "\n",
    "months = [\"Jan16\", \"Feb\", \"Mar\", \"Apr\", \"May\", \"Jun\", \"Jul\", \"Aug\", \"Sep\", \"Oct\", \"Nov\", \"Dec\", \"Jan17\"]\n",
    "ax[0].bar(x = months, height = count_df_noindex[\"listing_id\"], width=0.5)\n",
    "ax[0].set_title(\"Listings by month: By Listing ID\")\n",
    "\n",
    "ax[1].bar(x = months, height = count_df_noindex[\"price\"], width=0.5)\n",
    "ax[1].set_title(\"Listings by month: By Listed Price\")"
   ]
  },
  {
   "cell_type": "markdown",
   "metadata": {},
   "source": [
    "So, there's not a clear upward trend in listings. It looks like there's a collapse in January 2017 - most likely they don't have the whole month covered.\n",
    "\n",
    "Listing by price is more variable - prices are only shown when the listings are available. Interestingly, it doesn't vary much by season - once you get into Spring, the number of available listings varies only a little bit month by month. The plunge in January 2017 is still clearly visible. \n",
    "\n",
    "Could the January 2017 collapse be simply due to the month not being fully covered?"
   ]
  },
  {
   "cell_type": "code",
   "execution_count": 247,
   "metadata": {},
   "outputs": [
    {
     "data": {
      "text/plain": [
       "Timestamp('2017-01-02 00:00:00')"
      ]
     },
     "execution_count": 247,
     "metadata": {},
     "output_type": "execute_result"
    }
   ],
   "source": [
    "cal_df[\"date\"].max()"
   ]
  },
  {
   "cell_type": "markdown",
   "metadata": {},
   "source": [
    "Yep! We've only got one day of the new year. No wonder it's so low!"
   ]
  },
  {
   "cell_type": "markdown",
   "metadata": {},
   "source": [
    "# Question 2: Is the price level changing over time?\n",
    "\n",
    "This is referring to the overall price level. In question 3, I'm going to see if individual listings see their prices change noticeably over time. "
   ]
  },
  {
   "cell_type": "code",
   "execution_count": 248,
   "metadata": {},
   "outputs": [
    {
     "data": {
      "text/html": [
       "<div>\n",
       "<style scoped>\n",
       "    .dataframe tbody tr th:only-of-type {\n",
       "        vertical-align: middle;\n",
       "    }\n",
       "\n",
       "    .dataframe tbody tr th {\n",
       "        vertical-align: top;\n",
       "    }\n",
       "\n",
       "    .dataframe thead th {\n",
       "        text-align: right;\n",
       "    }\n",
       "</style>\n",
       "<table border=\"1\" class=\"dataframe\">\n",
       "  <thead>\n",
       "    <tr style=\"text-align: right;\">\n",
       "      <th></th>\n",
       "      <th>listing_id</th>\n",
       "      <th>date</th>\n",
       "      <th>available</th>\n",
       "      <th>price</th>\n",
       "      <th>month</th>\n",
       "      <th>year</th>\n",
       "    </tr>\n",
       "  </thead>\n",
       "  <tbody>\n",
       "    <tr>\n",
       "      <th>0</th>\n",
       "      <td>241032</td>\n",
       "      <td>2016-01-04</td>\n",
       "      <td>True</td>\n",
       "      <td>85.0</td>\n",
       "      <td>1</td>\n",
       "      <td>2016</td>\n",
       "    </tr>\n",
       "    <tr>\n",
       "      <th>1</th>\n",
       "      <td>241032</td>\n",
       "      <td>2016-01-05</td>\n",
       "      <td>True</td>\n",
       "      <td>85.0</td>\n",
       "      <td>1</td>\n",
       "      <td>2016</td>\n",
       "    </tr>\n",
       "    <tr>\n",
       "      <th>2</th>\n",
       "      <td>241032</td>\n",
       "      <td>2016-01-06</td>\n",
       "      <td>False</td>\n",
       "      <td>NaN</td>\n",
       "      <td>1</td>\n",
       "      <td>2016</td>\n",
       "    </tr>\n",
       "    <tr>\n",
       "      <th>3</th>\n",
       "      <td>241032</td>\n",
       "      <td>2016-01-07</td>\n",
       "      <td>False</td>\n",
       "      <td>NaN</td>\n",
       "      <td>1</td>\n",
       "      <td>2016</td>\n",
       "    </tr>\n",
       "    <tr>\n",
       "      <th>4</th>\n",
       "      <td>241032</td>\n",
       "      <td>2016-01-08</td>\n",
       "      <td>False</td>\n",
       "      <td>NaN</td>\n",
       "      <td>1</td>\n",
       "      <td>2016</td>\n",
       "    </tr>\n",
       "    <tr>\n",
       "      <th>...</th>\n",
       "      <td>...</td>\n",
       "      <td>...</td>\n",
       "      <td>...</td>\n",
       "      <td>...</td>\n",
       "      <td>...</td>\n",
       "      <td>...</td>\n",
       "    </tr>\n",
       "    <tr>\n",
       "      <th>1393565</th>\n",
       "      <td>10208623</td>\n",
       "      <td>2016-12-29</td>\n",
       "      <td>False</td>\n",
       "      <td>NaN</td>\n",
       "      <td>12</td>\n",
       "      <td>2016</td>\n",
       "    </tr>\n",
       "    <tr>\n",
       "      <th>1393566</th>\n",
       "      <td>10208623</td>\n",
       "      <td>2016-12-30</td>\n",
       "      <td>False</td>\n",
       "      <td>NaN</td>\n",
       "      <td>12</td>\n",
       "      <td>2016</td>\n",
       "    </tr>\n",
       "    <tr>\n",
       "      <th>1393567</th>\n",
       "      <td>10208623</td>\n",
       "      <td>2016-12-31</td>\n",
       "      <td>False</td>\n",
       "      <td>NaN</td>\n",
       "      <td>12</td>\n",
       "      <td>2016</td>\n",
       "    </tr>\n",
       "    <tr>\n",
       "      <th>1393568</th>\n",
       "      <td>10208623</td>\n",
       "      <td>2017-01-01</td>\n",
       "      <td>False</td>\n",
       "      <td>NaN</td>\n",
       "      <td>1</td>\n",
       "      <td>2017</td>\n",
       "    </tr>\n",
       "    <tr>\n",
       "      <th>1393569</th>\n",
       "      <td>10208623</td>\n",
       "      <td>2017-01-02</td>\n",
       "      <td>False</td>\n",
       "      <td>NaN</td>\n",
       "      <td>1</td>\n",
       "      <td>2017</td>\n",
       "    </tr>\n",
       "  </tbody>\n",
       "</table>\n",
       "<p>1393570 rows × 6 columns</p>\n",
       "</div>"
      ],
      "text/plain": [
       "         listing_id       date  available  price  month  year\n",
       "0            241032 2016-01-04       True   85.0      1  2016\n",
       "1            241032 2016-01-05       True   85.0      1  2016\n",
       "2            241032 2016-01-06      False    NaN      1  2016\n",
       "3            241032 2016-01-07      False    NaN      1  2016\n",
       "4            241032 2016-01-08      False    NaN      1  2016\n",
       "...             ...        ...        ...    ...    ...   ...\n",
       "1393565    10208623 2016-12-29      False    NaN     12  2016\n",
       "1393566    10208623 2016-12-30      False    NaN     12  2016\n",
       "1393567    10208623 2016-12-31      False    NaN     12  2016\n",
       "1393568    10208623 2017-01-01      False    NaN      1  2017\n",
       "1393569    10208623 2017-01-02      False    NaN      1  2017\n",
       "\n",
       "[1393570 rows x 6 columns]"
      ]
     },
     "execution_count": 248,
     "metadata": {},
     "output_type": "execute_result"
    }
   ],
   "source": [
    "cal_df"
   ]
  },
  {
   "cell_type": "code",
   "execution_count": 249,
   "metadata": {},
   "outputs": [],
   "source": [
    "cal_df_unavailable = cal_df[cal_df[\"available\"] == False]\n",
    "cal_df_available = cal_df[cal_df[\"available\"] == True]"
   ]
  },
  {
   "cell_type": "code",
   "execution_count": 250,
   "metadata": {},
   "outputs": [
    {
     "data": {
      "text/html": [
       "<div>\n",
       "<style scoped>\n",
       "    .dataframe tbody tr th:only-of-type {\n",
       "        vertical-align: middle;\n",
       "    }\n",
       "\n",
       "    .dataframe tbody tr th {\n",
       "        vertical-align: top;\n",
       "    }\n",
       "\n",
       "    .dataframe thead th {\n",
       "        text-align: right;\n",
       "    }\n",
       "</style>\n",
       "<table border=\"1\" class=\"dataframe\">\n",
       "  <thead>\n",
       "    <tr style=\"text-align: right;\">\n",
       "      <th></th>\n",
       "      <th>listing_id</th>\n",
       "      <th>date</th>\n",
       "      <th>available</th>\n",
       "      <th>price</th>\n",
       "      <th>month</th>\n",
       "      <th>year</th>\n",
       "    </tr>\n",
       "  </thead>\n",
       "  <tbody>\n",
       "    <tr>\n",
       "      <th>0</th>\n",
       "      <td>241032</td>\n",
       "      <td>2016-01-04</td>\n",
       "      <td>True</td>\n",
       "      <td>85.0</td>\n",
       "      <td>1</td>\n",
       "      <td>2016</td>\n",
       "    </tr>\n",
       "    <tr>\n",
       "      <th>1</th>\n",
       "      <td>241032</td>\n",
       "      <td>2016-01-05</td>\n",
       "      <td>True</td>\n",
       "      <td>85.0</td>\n",
       "      <td>1</td>\n",
       "      <td>2016</td>\n",
       "    </tr>\n",
       "    <tr>\n",
       "      <th>9</th>\n",
       "      <td>241032</td>\n",
       "      <td>2016-01-13</td>\n",
       "      <td>True</td>\n",
       "      <td>85.0</td>\n",
       "      <td>1</td>\n",
       "      <td>2016</td>\n",
       "    </tr>\n",
       "    <tr>\n",
       "      <th>10</th>\n",
       "      <td>241032</td>\n",
       "      <td>2016-01-14</td>\n",
       "      <td>True</td>\n",
       "      <td>85.0</td>\n",
       "      <td>1</td>\n",
       "      <td>2016</td>\n",
       "    </tr>\n",
       "    <tr>\n",
       "      <th>14</th>\n",
       "      <td>241032</td>\n",
       "      <td>2016-01-18</td>\n",
       "      <td>True</td>\n",
       "      <td>85.0</td>\n",
       "      <td>1</td>\n",
       "      <td>2016</td>\n",
       "    </tr>\n",
       "    <tr>\n",
       "      <th>...</th>\n",
       "      <td>...</td>\n",
       "      <td>...</td>\n",
       "      <td>...</td>\n",
       "      <td>...</td>\n",
       "      <td>...</td>\n",
       "      <td>...</td>\n",
       "    </tr>\n",
       "    <tr>\n",
       "      <th>1393207</th>\n",
       "      <td>10208623</td>\n",
       "      <td>2016-01-06</td>\n",
       "      <td>True</td>\n",
       "      <td>87.0</td>\n",
       "      <td>1</td>\n",
       "      <td>2016</td>\n",
       "    </tr>\n",
       "    <tr>\n",
       "      <th>1393208</th>\n",
       "      <td>10208623</td>\n",
       "      <td>2016-01-07</td>\n",
       "      <td>True</td>\n",
       "      <td>87.0</td>\n",
       "      <td>1</td>\n",
       "      <td>2016</td>\n",
       "    </tr>\n",
       "    <tr>\n",
       "      <th>1393211</th>\n",
       "      <td>10208623</td>\n",
       "      <td>2016-01-10</td>\n",
       "      <td>True</td>\n",
       "      <td>87.0</td>\n",
       "      <td>1</td>\n",
       "      <td>2016</td>\n",
       "    </tr>\n",
       "    <tr>\n",
       "      <th>1393212</th>\n",
       "      <td>10208623</td>\n",
       "      <td>2016-01-11</td>\n",
       "      <td>True</td>\n",
       "      <td>87.0</td>\n",
       "      <td>1</td>\n",
       "      <td>2016</td>\n",
       "    </tr>\n",
       "    <tr>\n",
       "      <th>1393213</th>\n",
       "      <td>10208623</td>\n",
       "      <td>2016-01-12</td>\n",
       "      <td>True</td>\n",
       "      <td>87.0</td>\n",
       "      <td>1</td>\n",
       "      <td>2016</td>\n",
       "    </tr>\n",
       "  </tbody>\n",
       "</table>\n",
       "<p>934542 rows × 6 columns</p>\n",
       "</div>"
      ],
      "text/plain": [
       "         listing_id       date  available  price  month  year\n",
       "0            241032 2016-01-04       True   85.0      1  2016\n",
       "1            241032 2016-01-05       True   85.0      1  2016\n",
       "9            241032 2016-01-13       True   85.0      1  2016\n",
       "10           241032 2016-01-14       True   85.0      1  2016\n",
       "14           241032 2016-01-18       True   85.0      1  2016\n",
       "...             ...        ...        ...    ...    ...   ...\n",
       "1393207    10208623 2016-01-06       True   87.0      1  2016\n",
       "1393208    10208623 2016-01-07       True   87.0      1  2016\n",
       "1393211    10208623 2016-01-10       True   87.0      1  2016\n",
       "1393212    10208623 2016-01-11       True   87.0      1  2016\n",
       "1393213    10208623 2016-01-12       True   87.0      1  2016\n",
       "\n",
       "[934542 rows x 6 columns]"
      ]
     },
     "execution_count": 250,
     "metadata": {},
     "output_type": "execute_result"
    }
   ],
   "source": [
    "cal_df_available"
   ]
  },
  {
   "cell_type": "code",
   "execution_count": 251,
   "metadata": {},
   "outputs": [],
   "source": [
    "avail_df_gb = cal_df_available.groupby(\"month\").mean()"
   ]
  },
  {
   "cell_type": "code",
   "execution_count": 252,
   "metadata": {},
   "outputs": [
    {
     "data": {
      "text/html": [
       "<div>\n",
       "<style scoped>\n",
       "    .dataframe tbody tr th:only-of-type {\n",
       "        vertical-align: middle;\n",
       "    }\n",
       "\n",
       "    .dataframe tbody tr th {\n",
       "        vertical-align: top;\n",
       "    }\n",
       "\n",
       "    .dataframe thead th {\n",
       "        text-align: right;\n",
       "    }\n",
       "</style>\n",
       "<table border=\"1\" class=\"dataframe\">\n",
       "  <thead>\n",
       "    <tr style=\"text-align: right;\">\n",
       "      <th></th>\n",
       "      <th>listing_id</th>\n",
       "      <th>available</th>\n",
       "      <th>price</th>\n",
       "      <th>year</th>\n",
       "    </tr>\n",
       "    <tr>\n",
       "      <th>month</th>\n",
       "      <th></th>\n",
       "      <th></th>\n",
       "      <th></th>\n",
       "      <th></th>\n",
       "    </tr>\n",
       "  </thead>\n",
       "  <tbody>\n",
       "    <tr>\n",
       "      <th>1</th>\n",
       "      <td>5.409000e+06</td>\n",
       "      <td>1.0</td>\n",
       "      <td>122.912176</td>\n",
       "      <td>2016.087747</td>\n",
       "    </tr>\n",
       "    <tr>\n",
       "      <th>2</th>\n",
       "      <td>5.416562e+06</td>\n",
       "      <td>1.0</td>\n",
       "      <td>124.293927</td>\n",
       "      <td>2016.000000</td>\n",
       "    </tr>\n",
       "    <tr>\n",
       "      <th>3</th>\n",
       "      <td>5.383965e+06</td>\n",
       "      <td>1.0</td>\n",
       "      <td>128.644488</td>\n",
       "      <td>2016.000000</td>\n",
       "    </tr>\n",
       "    <tr>\n",
       "      <th>4</th>\n",
       "      <td>5.244016e+06</td>\n",
       "      <td>1.0</td>\n",
       "      <td>135.097005</td>\n",
       "      <td>2016.000000</td>\n",
       "    </tr>\n",
       "    <tr>\n",
       "      <th>5</th>\n",
       "      <td>5.234380e+06</td>\n",
       "      <td>1.0</td>\n",
       "      <td>139.538183</td>\n",
       "      <td>2016.000000</td>\n",
       "    </tr>\n",
       "    <tr>\n",
       "      <th>6</th>\n",
       "      <td>5.170853e+06</td>\n",
       "      <td>1.0</td>\n",
       "      <td>147.473137</td>\n",
       "      <td>2016.000000</td>\n",
       "    </tr>\n",
       "    <tr>\n",
       "      <th>7</th>\n",
       "      <td>5.200952e+06</td>\n",
       "      <td>1.0</td>\n",
       "      <td>152.094150</td>\n",
       "      <td>2016.000000</td>\n",
       "    </tr>\n",
       "    <tr>\n",
       "      <th>8</th>\n",
       "      <td>5.240480e+06</td>\n",
       "      <td>1.0</td>\n",
       "      <td>150.656594</td>\n",
       "      <td>2016.000000</td>\n",
       "    </tr>\n",
       "    <tr>\n",
       "      <th>9</th>\n",
       "      <td>5.279361e+06</td>\n",
       "      <td>1.0</td>\n",
       "      <td>143.255949</td>\n",
       "      <td>2016.000000</td>\n",
       "    </tr>\n",
       "    <tr>\n",
       "      <th>10</th>\n",
       "      <td>5.310734e+06</td>\n",
       "      <td>1.0</td>\n",
       "      <td>137.031939</td>\n",
       "      <td>2016.000000</td>\n",
       "    </tr>\n",
       "    <tr>\n",
       "      <th>11</th>\n",
       "      <td>5.349253e+06</td>\n",
       "      <td>1.0</td>\n",
       "      <td>135.688738</td>\n",
       "      <td>2016.000000</td>\n",
       "    </tr>\n",
       "    <tr>\n",
       "      <th>12</th>\n",
       "      <td>5.421078e+06</td>\n",
       "      <td>1.0</td>\n",
       "      <td>137.251835</td>\n",
       "      <td>2016.000000</td>\n",
       "    </tr>\n",
       "  </tbody>\n",
       "</table>\n",
       "</div>"
      ],
      "text/plain": [
       "         listing_id  available       price         year\n",
       "month                                                  \n",
       "1      5.409000e+06        1.0  122.912176  2016.087747\n",
       "2      5.416562e+06        1.0  124.293927  2016.000000\n",
       "3      5.383965e+06        1.0  128.644488  2016.000000\n",
       "4      5.244016e+06        1.0  135.097005  2016.000000\n",
       "5      5.234380e+06        1.0  139.538183  2016.000000\n",
       "6      5.170853e+06        1.0  147.473137  2016.000000\n",
       "7      5.200952e+06        1.0  152.094150  2016.000000\n",
       "8      5.240480e+06        1.0  150.656594  2016.000000\n",
       "9      5.279361e+06        1.0  143.255949  2016.000000\n",
       "10     5.310734e+06        1.0  137.031939  2016.000000\n",
       "11     5.349253e+06        1.0  135.688738  2016.000000\n",
       "12     5.421078e+06        1.0  137.251835  2016.000000"
      ]
     },
     "execution_count": 252,
     "metadata": {},
     "output_type": "execute_result"
    }
   ],
   "source": [
    "avail_df_gb"
   ]
  },
  {
   "cell_type": "code",
   "execution_count": 253,
   "metadata": {},
   "outputs": [
    {
     "data": {
      "text/plain": [
       "Text(0.5, 1.0, 'Listings by month: By Listing ID')"
      ]
     },
     "execution_count": 253,
     "metadata": {},
     "output_type": "execute_result"
    },
    {
     "data": {
      "image/png": "[encoded data removed]",
      "text/plain": [
       "<Figure size 432x288 with 1 Axes>"
      ]
     },
     "metadata": {
      "needs_background": "light"
     },
     "output_type": "display_data"
    }
   ],
   "source": [
    "months = [\"Jan\", \"Feb\", \"Mar\", \"Apr\", \"May\", \"Jun\", \"Jul\", \"Aug\", \"Sep\", \"Oct\", \"Nov\", \"Dec\"]\n",
    "plt.bar(x = months, height = avail_df_gb[\"price\"], width=0.5)\n",
    "plt.title(\"Listings by month: By Listing ID\")"
   ]
  },
  {
   "cell_type": "markdown",
   "metadata": {},
   "source": [
    "There seemy to be an overall increase from January to December, but the interesting change is in the seasons. Prices peak in June, July, and August. By Autumn they've fallen slightly, but still to a higher level than the spring. \n",
    "\n",
    "I'm going to run a very simple linear model to find the slope - what rate do we expect these prices to rise yearly?"
   ]
  },
  {
   "cell_type": "code",
   "execution_count": 254,
   "metadata": {},
   "outputs": [
    {
     "data": {
      "text/html": [
       "<div>\n",
       "<style scoped>\n",
       "    .dataframe tbody tr th:only-of-type {\n",
       "        vertical-align: middle;\n",
       "    }\n",
       "\n",
       "    .dataframe tbody tr th {\n",
       "        vertical-align: top;\n",
       "    }\n",
       "\n",
       "    .dataframe thead th {\n",
       "        text-align: right;\n",
       "    }\n",
       "</style>\n",
       "<table border=\"1\" class=\"dataframe\">\n",
       "  <thead>\n",
       "    <tr style=\"text-align: right;\">\n",
       "      <th></th>\n",
       "      <th>listing_id</th>\n",
       "      <th>available</th>\n",
       "      <th>price</th>\n",
       "      <th>year</th>\n",
       "    </tr>\n",
       "    <tr>\n",
       "      <th>month</th>\n",
       "      <th></th>\n",
       "      <th></th>\n",
       "      <th></th>\n",
       "      <th></th>\n",
       "    </tr>\n",
       "  </thead>\n",
       "  <tbody>\n",
       "    <tr>\n",
       "      <th>1</th>\n",
       "      <td>5.409000e+06</td>\n",
       "      <td>1.0</td>\n",
       "      <td>122.912176</td>\n",
       "      <td>2016.087747</td>\n",
       "    </tr>\n",
       "    <tr>\n",
       "      <th>2</th>\n",
       "      <td>5.416562e+06</td>\n",
       "      <td>1.0</td>\n",
       "      <td>124.293927</td>\n",
       "      <td>2016.000000</td>\n",
       "    </tr>\n",
       "    <tr>\n",
       "      <th>3</th>\n",
       "      <td>5.383965e+06</td>\n",
       "      <td>1.0</td>\n",
       "      <td>128.644488</td>\n",
       "      <td>2016.000000</td>\n",
       "    </tr>\n",
       "    <tr>\n",
       "      <th>4</th>\n",
       "      <td>5.244016e+06</td>\n",
       "      <td>1.0</td>\n",
       "      <td>135.097005</td>\n",
       "      <td>2016.000000</td>\n",
       "    </tr>\n",
       "    <tr>\n",
       "      <th>5</th>\n",
       "      <td>5.234380e+06</td>\n",
       "      <td>1.0</td>\n",
       "      <td>139.538183</td>\n",
       "      <td>2016.000000</td>\n",
       "    </tr>\n",
       "    <tr>\n",
       "      <th>6</th>\n",
       "      <td>5.170853e+06</td>\n",
       "      <td>1.0</td>\n",
       "      <td>147.473137</td>\n",
       "      <td>2016.000000</td>\n",
       "    </tr>\n",
       "    <tr>\n",
       "      <th>7</th>\n",
       "      <td>5.200952e+06</td>\n",
       "      <td>1.0</td>\n",
       "      <td>152.094150</td>\n",
       "      <td>2016.000000</td>\n",
       "    </tr>\n",
       "    <tr>\n",
       "      <th>8</th>\n",
       "      <td>5.240480e+06</td>\n",
       "      <td>1.0</td>\n",
       "      <td>150.656594</td>\n",
       "      <td>2016.000000</td>\n",
       "    </tr>\n",
       "    <tr>\n",
       "      <th>9</th>\n",
       "      <td>5.279361e+06</td>\n",
       "      <td>1.0</td>\n",
       "      <td>143.255949</td>\n",
       "      <td>2016.000000</td>\n",
       "    </tr>\n",
       "    <tr>\n",
       "      <th>10</th>\n",
       "      <td>5.310734e+06</td>\n",
       "      <td>1.0</td>\n",
       "      <td>137.031939</td>\n",
       "      <td>2016.000000</td>\n",
       "    </tr>\n",
       "    <tr>\n",
       "      <th>11</th>\n",
       "      <td>5.349253e+06</td>\n",
       "      <td>1.0</td>\n",
       "      <td>135.688738</td>\n",
       "      <td>2016.000000</td>\n",
       "    </tr>\n",
       "    <tr>\n",
       "      <th>12</th>\n",
       "      <td>5.421078e+06</td>\n",
       "      <td>1.0</td>\n",
       "      <td>137.251835</td>\n",
       "      <td>2016.000000</td>\n",
       "    </tr>\n",
       "  </tbody>\n",
       "</table>\n",
       "</div>"
      ],
      "text/plain": [
       "         listing_id  available       price         year\n",
       "month                                                  \n",
       "1      5.409000e+06        1.0  122.912176  2016.087747\n",
       "2      5.416562e+06        1.0  124.293927  2016.000000\n",
       "3      5.383965e+06        1.0  128.644488  2016.000000\n",
       "4      5.244016e+06        1.0  135.097005  2016.000000\n",
       "5      5.234380e+06        1.0  139.538183  2016.000000\n",
       "6      5.170853e+06        1.0  147.473137  2016.000000\n",
       "7      5.200952e+06        1.0  152.094150  2016.000000\n",
       "8      5.240480e+06        1.0  150.656594  2016.000000\n",
       "9      5.279361e+06        1.0  143.255949  2016.000000\n",
       "10     5.310734e+06        1.0  137.031939  2016.000000\n",
       "11     5.349253e+06        1.0  135.688738  2016.000000\n",
       "12     5.421078e+06        1.0  137.251835  2016.000000"
      ]
     },
     "execution_count": 254,
     "metadata": {},
     "output_type": "execute_result"
    }
   ],
   "source": [
    "avail_df_gb"
   ]
  },
  {
   "cell_type": "code",
   "execution_count": 255,
   "metadata": {},
   "outputs": [],
   "source": [
    "import statsmodels.api as sm\n"
   ]
  },
  {
   "cell_type": "code",
   "execution_count": 270,
   "metadata": {},
   "outputs": [
    {
     "data": {
      "text/plain": [
       "Text(0, 0.5, 'Average Price')"
      ]
     },
     "execution_count": 270,
     "metadata": {},
     "output_type": "execute_result"
    },
    {
     "data": {
      "image/png": "[encoded data removed]",
      "text/plain": [
       "<Figure size 432x288 with 1 Axes>"
      ]
     },
     "metadata": {
      "needs_background": "light"
     },
     "output_type": "display_data"
    }
   ],
   "source": [
    "month_range = np.arange(1, 13, 1)\n",
    "#len(month_range)\n",
    "\n",
    "plt.title(\"Regression Plot of Prices over 2016\")\n",
    "sns.regplot(x = month_range, y = avail_df_gb[\"price\"], line_kws={\"color\": \"red\"}, scatter_kws={\"s\": 12})\n",
    "plt.xlabel(\"Number of Months Elapsed\")\n",
    "plt.ylabel(\"Average Price\")"
   ]
  },
  {
   "cell_type": "code",
   "execution_count": 257,
   "metadata": {},
   "outputs": [
    {
     "data": {
      "text/plain": [
       "numpy.ndarray"
      ]
     },
     "execution_count": 257,
     "metadata": {},
     "output_type": "execute_result"
    }
   ],
   "source": [
    "type(avail_df_gb[\"price\"])\n",
    "type(month_range)"
   ]
  },
  {
   "cell_type": "code",
   "execution_count": 258,
   "metadata": {},
   "outputs": [],
   "source": [
    "linear_reg_df = {\"price\": avail_df_gb[\"price\"], \"intercept\": 1, \"month\": month_range}\n",
    "linear_reg_df = pd.DataFrame(data=linear_reg_df)\n",
    "linear_reg_df_exog = linear_reg_df.drop(\"price\", axis=1)"
   ]
  },
  {
   "cell_type": "code",
   "execution_count": 259,
   "metadata": {},
   "outputs": [
    {
     "data": {
      "text/html": [
       "<div>\n",
       "<style scoped>\n",
       "    .dataframe tbody tr th:only-of-type {\n",
       "        vertical-align: middle;\n",
       "    }\n",
       "\n",
       "    .dataframe tbody tr th {\n",
       "        vertical-align: top;\n",
       "    }\n",
       "\n",
       "    .dataframe thead th {\n",
       "        text-align: right;\n",
       "    }\n",
       "</style>\n",
       "<table border=\"1\" class=\"dataframe\">\n",
       "  <thead>\n",
       "    <tr style=\"text-align: right;\">\n",
       "      <th></th>\n",
       "      <th>intercept</th>\n",
       "      <th>month</th>\n",
       "    </tr>\n",
       "    <tr>\n",
       "      <th>month</th>\n",
       "      <th></th>\n",
       "      <th></th>\n",
       "    </tr>\n",
       "  </thead>\n",
       "  <tbody>\n",
       "    <tr>\n",
       "      <th>1</th>\n",
       "      <td>1</td>\n",
       "      <td>1</td>\n",
       "    </tr>\n",
       "    <tr>\n",
       "      <th>2</th>\n",
       "      <td>1</td>\n",
       "      <td>2</td>\n",
       "    </tr>\n",
       "    <tr>\n",
       "      <th>3</th>\n",
       "      <td>1</td>\n",
       "      <td>3</td>\n",
       "    </tr>\n",
       "    <tr>\n",
       "      <th>4</th>\n",
       "      <td>1</td>\n",
       "      <td>4</td>\n",
       "    </tr>\n",
       "    <tr>\n",
       "      <th>5</th>\n",
       "      <td>1</td>\n",
       "      <td>5</td>\n",
       "    </tr>\n",
       "    <tr>\n",
       "      <th>6</th>\n",
       "      <td>1</td>\n",
       "      <td>6</td>\n",
       "    </tr>\n",
       "    <tr>\n",
       "      <th>7</th>\n",
       "      <td>1</td>\n",
       "      <td>7</td>\n",
       "    </tr>\n",
       "    <tr>\n",
       "      <th>8</th>\n",
       "      <td>1</td>\n",
       "      <td>8</td>\n",
       "    </tr>\n",
       "    <tr>\n",
       "      <th>9</th>\n",
       "      <td>1</td>\n",
       "      <td>9</td>\n",
       "    </tr>\n",
       "    <tr>\n",
       "      <th>10</th>\n",
       "      <td>1</td>\n",
       "      <td>10</td>\n",
       "    </tr>\n",
       "    <tr>\n",
       "      <th>11</th>\n",
       "      <td>1</td>\n",
       "      <td>11</td>\n",
       "    </tr>\n",
       "    <tr>\n",
       "      <th>12</th>\n",
       "      <td>1</td>\n",
       "      <td>12</td>\n",
       "    </tr>\n",
       "  </tbody>\n",
       "</table>\n",
       "</div>"
      ],
      "text/plain": [
       "       intercept  month\n",
       "month                  \n",
       "1              1      1\n",
       "2              1      2\n",
       "3              1      3\n",
       "4              1      4\n",
       "5              1      5\n",
       "6              1      6\n",
       "7              1      7\n",
       "8              1      8\n",
       "9              1      9\n",
       "10             1     10\n",
       "11             1     11\n",
       "12             1     12"
      ]
     },
     "execution_count": 259,
     "metadata": {},
     "output_type": "execute_result"
    }
   ],
   "source": [
    "linear_reg_df_exog"
   ]
  },
  {
   "cell_type": "markdown",
   "metadata": {},
   "source": [
    "# 1. Basic Month-level linear regression"
   ]
  },
  {
   "cell_type": "code",
   "execution_count": 260,
   "metadata": {},
   "outputs": [
    {
     "name": "stdout",
     "output_type": "stream",
     "text": [
      "                            OLS Regression Results                            \n",
      "==============================================================================\n",
      "Dep. Variable:                  price   R-squared:                       0.278\n",
      "Model:                            OLS   Adj. R-squared:                  0.205\n",
      "Method:                 Least Squares   F-statistic:                     3.842\n",
      "Date:                Mon, 17 Oct 2022   Prob (F-statistic):             0.0784\n",
      "Time:                        10:15:41   Log-Likelihood:                -41.592\n",
      "No. Observations:                  12   AIC:                             87.18\n",
      "Df Residuals:                      10   BIC:                             88.15\n",
      "Df Model:                           1                                         \n",
      "Covariance Type:            nonrobust                                         \n",
      "==============================================================================\n",
      "                 coef    std err          t      P>|t|      [0.025      0.975]\n",
      "------------------------------------------------------------------------------\n",
      "intercept    128.7879      5.222     24.663      0.000     117.153     140.423\n",
      "month          1.3908      0.710      1.960      0.078      -0.190       2.972\n",
      "==============================================================================\n",
      "Omnibus:                        2.357   Durbin-Watson:                   0.344\n",
      "Prob(Omnibus):                  0.308   Jarque-Bera (JB):                1.265\n",
      "Skew:                           0.489   Prob(JB):                        0.531\n",
      "Kurtosis:                       1.746   Cond. No.                         15.9\n",
      "==============================================================================\n",
      "\n",
      "Notes:\n",
      "[1] Standard Errors assume that the covariance matrix of the errors is correctly specified.\n"
     ]
    },
    {
     "name": "stderr",
     "output_type": "stream",
     "text": [
      "c:\\Users\\jonah\\anaconda3\\lib\\site-packages\\scipy\\stats\\stats.py:1541: UserWarning: kurtosistest only valid for n>=20 ... continuing anyway, n=12\n",
      "  warnings.warn(\"kurtosistest only valid for n>=20 ... continuing \"\n"
     ]
    }
   ],
   "source": [
    "# Month Model\n",
    "month_model = sm.OLS(linear_reg_df[\"price\"], linear_reg_df_exog)\n",
    "month_model_result = month_model.fit()\n",
    "print(month_model_result.summary())"
   ]
  },
  {
   "cell_type": "markdown",
   "metadata": {},
   "source": [
    "This is a very simple regression - it accounts for the average level with the `intercept` variable, then takes the slope of a best-fit line over the `month` variable. \n",
    "\n",
    "It suggests an average increase in price of $1.39 per month, with a p-value of 0.078. This p-value is the probability we would get a value as or more extreme than we observed if the true values do not actually change by month. In most academic publications, a p-value of 0.05 is seen as the minimum for an effect size to be trusted, and even then, marginally significant effects are viewed with suspicion.\n",
    "\n",
    "The issue here is that grouping by month drastically reduced the number of observations we have to work with. I'm going to remake the dataset instead working by days. We'll have far more observations, and a lower standard error."
   ]
  },
  {
   "cell_type": "markdown",
   "metadata": {},
   "source": [
    "# 2. Day-level linear regression"
   ]
  },
  {
   "cell_type": "code",
   "execution_count": 262,
   "metadata": {},
   "outputs": [
    {
     "name": "stderr",
     "output_type": "stream",
     "text": [
      "C:\\Users\\jonah\\AppData\\Local\\Temp\\ipykernel_3428\\120034309.py:2: SettingWithCopyWarning: \n",
      "A value is trying to be set on a copy of a slice from a DataFrame.\n",
      "Try using .loc[row_indexer,col_indexer] = value instead\n",
      "\n",
      "See the caveats in the documentation: https://pandas.pydata.org/pandas-docs/stable/user_guide/indexing.html#returning-a-view-versus-a-copy\n",
      "  day_df[\"intercept\"] = 1\n"
     ]
    }
   ],
   "source": [
    "cal_df_available[\"day\"] = cal_df_available[\"date\"].dt.day\n",
    "day_df = cal_df_available[[\"price\", \"day\"]]\n",
    "day_df[\"intercept\"] = 1\n",
    "day_df_exog = day_df.drop(\"price\", axis=1)"
   ]
  },
  {
   "cell_type": "code",
   "execution_count": 263,
   "metadata": {},
   "outputs": [
    {
     "name": "stdout",
     "output_type": "stream",
     "text": [
      "                            OLS Regression Results                            \n",
      "==============================================================================\n",
      "Dep. Variable:                  price   R-squared:                       0.000\n",
      "Model:                            OLS   Adj. R-squared:                  0.000\n",
      "Method:                 Least Squares   F-statistic:                     1.048\n",
      "Date:                Mon, 17 Oct 2022   Prob (F-statistic):              0.306\n",
      "Time:                        10:15:42   Log-Likelihood:            -5.6759e+06\n",
      "No. Observations:              934542   AIC:                         1.135e+07\n",
      "Df Residuals:                  934540   BIC:                         1.135e+07\n",
      "Df Model:                           1                                         \n",
      "Covariance Type:            nonrobust                                         \n",
      "==============================================================================\n",
      "                 coef    std err          t      P>|t|      [0.025      0.975]\n",
      "------------------------------------------------------------------------------\n",
      "day            0.0126      0.012      1.024      0.306      -0.012       0.037\n",
      "intercept    137.7444      0.224    615.208      0.000     137.306     138.183\n",
      "==============================================================================\n",
      "Omnibus:                   664953.738   Durbin-Watson:                   0.023\n",
      "Prob(Omnibus):                  0.000   Jarque-Bera (JB):         14209543.485\n",
      "Skew:                           3.208   Prob(JB):                         0.00\n",
      "Kurtosis:                      20.993   Cond. No.                         37.5\n",
      "==============================================================================\n",
      "\n",
      "Notes:\n",
      "[1] Standard Errors assume that the covariance matrix of the errors is correctly specified.\n"
     ]
    }
   ],
   "source": [
    "# Day Model 1\n",
    "day_model = sm.OLS(day_df[\"price\"], day_df_exog)\n",
    "day_model_result = day_model.fit()\n",
    "print(day_model_result.summary())"
   ]
  },
  {
   "cell_type": "markdown",
   "metadata": {},
   "source": [
    "Now, this still finds an insignificant effect! When the price clearly did rise over the course of the year, and we'd expect it to, thanks to inflation, the problem is probably that the model is underspecified. We observed it's got a upside-down U-shape. If I add an exponential transformation of the day variable, this may make the model fit much better."
   ]
  },
  {
   "cell_type": "markdown",
   "metadata": {},
   "source": [
    "# 3. Day-level linear and quadratic regression"
   ]
  },
  {
   "cell_type": "code",
   "execution_count": 264,
   "metadata": {},
   "outputs": [
    {
     "name": "stderr",
     "output_type": "stream",
     "text": [
      "C:\\Users\\jonah\\AppData\\Local\\Temp\\ipykernel_3428\\1430650972.py:1: SettingWithCopyWarning: \n",
      "A value is trying to be set on a copy of a slice from a DataFrame.\n",
      "Try using .loc[row_indexer,col_indexer] = value instead\n",
      "\n",
      "See the caveats in the documentation: https://pandas.pydata.org/pandas-docs/stable/user_guide/indexing.html#returning-a-view-versus-a-copy\n",
      "  day_df[\"day_squared\"] = day_df[\"day\"]**2\n"
     ]
    }
   ],
   "source": [
    "day_df[\"day_squared\"] = day_df[\"day\"]**2\n",
    "day_df_exp_exog = day_df.drop(\"price\", axis=1)"
   ]
  },
  {
   "cell_type": "code",
   "execution_count": 291,
   "metadata": {},
   "outputs": [
    {
     "name": "stdout",
     "output_type": "stream",
     "text": [
      "                            OLS Regression Results                            \n",
      "==============================================================================\n",
      "Dep. Variable:                  price   R-squared:                       0.000\n",
      "Model:                            OLS   Adj. R-squared:                  0.000\n",
      "Method:                 Least Squares   F-statistic:                     4.524\n",
      "Date:                Mon, 17 Oct 2022   Prob (F-statistic):             0.0108\n",
      "Time:                        11:19:22   Log-Likelihood:            -5.6759e+06\n",
      "No. Observations:              934542   AIC:                         1.135e+07\n",
      "Df Residuals:                  934539   BIC:                         1.135e+07\n",
      "Df Model:                           2                                         \n",
      "Covariance Type:            nonrobust                                         \n",
      "===============================================================================\n",
      "                  coef    std err          t      P>|t|      [0.025      0.975]\n",
      "-------------------------------------------------------------------------------\n",
      "day            -0.1267      0.051     -2.495      0.013      -0.226      -0.027\n",
      "intercept     138.5033      0.349    396.360      0.000     137.818     139.188\n",
      "day_squared     0.0044      0.002      2.829      0.005       0.001       0.007\n",
      "==============================================================================\n",
      "Omnibus:                   664946.901   Durbin-Watson:                   0.023\n",
      "Prob(Omnibus):                  0.000   Jarque-Bera (JB):         14209305.766\n",
      "Skew:                           3.208   Prob(JB):                         0.00\n",
      "Kurtosis:                      20.993   Cond. No.                     1.42e+03\n",
      "==============================================================================\n",
      "\n",
      "Notes:\n",
      "[1] Standard Errors assume that the covariance matrix of the errors is correctly specified.\n",
      "[2] The condition number is large, 1.42e+03. This might indicate that there are\n",
      "strong multicollinearity or other numerical problems.\n"
     ]
    }
   ],
   "source": [
    "day_model_2 = sm.OLS(day_df[\"price\"], day_df_exp_exog)\n",
    "day_model_2_result = day_model_2.fit()\n",
    "print(day_model_2_result.summary())"
   ]
  },
  {
   "cell_type": "markdown",
   "metadata": {},
   "source": [
    "That makes more sense - both `day` and `day_squared` are statistically significant. The model suggests a change of X days causes an X*$0.13 decrease in price, but an X^2*$0.044 increase.\n",
    "\n",
    "For example, say we go from day 30 to day 60. The linear variable causes a $3.8 drop in price, while the exponential variable causes a $3.96 increase in price, netting a $0.16 overall increase. \n",
    "\n",
    "This fits there being occasional reductions in price in the short run while increasing overall. Interstingly, though, the exponential variable here is the positive one, when the plot showed the data having a downward-sloping curve from the highest priced months in the summer. "
   ]
  },
  {
   "cell_type": "markdown",
   "metadata": {},
   "source": [
    "# 4. Month-level linear+quadratic regression "
   ]
  },
  {
   "cell_type": "markdown",
   "metadata": {},
   "source": [
    "Now, just quickly running a nonlinear model on months, to get the R-squared values."
   ]
  },
  {
   "cell_type": "code",
   "execution_count": 289,
   "metadata": {},
   "outputs": [
    {
     "name": "stdout",
     "output_type": "stream",
     "text": [
      "                            OLS Regression Results                            \n",
      "==============================================================================\n",
      "Dep. Variable:                  price   R-squared:                       0.824\n",
      "Model:                            OLS   Adj. R-squared:                  0.785\n",
      "Method:                 Least Squares   F-statistic:                     21.12\n",
      "Date:                Mon, 17 Oct 2022   Prob (F-statistic):           0.000399\n",
      "Time:                        10:45:30   Log-Likelihood:                -33.108\n",
      "No. Observations:                  12   AIC:                             72.22\n",
      "Df Residuals:                       9   BIC:                             73.67\n",
      "Df Model:                           2                                         \n",
      "Covariance Type:            nonrobust                                         \n",
      "=================================================================================\n",
      "                    coef    std err          t      P>|t|      [0.025      0.975]\n",
      "---------------------------------------------------------------------------------\n",
      "intercept       109.4073      4.558     24.003      0.000      99.096     119.718\n",
      "month             9.6968      1.612      6.015      0.000       6.050      13.344\n",
      "month_squared    -0.6389      0.121     -5.293      0.000      -0.912      -0.366\n",
      "==============================================================================\n",
      "Omnibus:                        3.930   Durbin-Watson:                   1.084\n",
      "Prob(Omnibus):                  0.140   Jarque-Bera (JB):                1.258\n",
      "Skew:                           0.253   Prob(JB):                        0.533\n",
      "Kurtosis:                       1.496   Cond. No.                         269.\n",
      "==============================================================================\n",
      "\n",
      "Notes:\n",
      "[1] Standard Errors assume that the covariance matrix of the errors is correctly specified.\n"
     ]
    },
    {
     "name": "stderr",
     "output_type": "stream",
     "text": [
      "c:\\Users\\jonah\\anaconda3\\lib\\site-packages\\scipy\\stats\\stats.py:1541: UserWarning: kurtosistest only valid for n>=20 ... continuing anyway, n=12\n",
      "  warnings.warn(\"kurtosistest only valid for n>=20 ... continuing \"\n"
     ]
    }
   ],
   "source": [
    "nonlinear_month_df = linear_reg_df\n",
    "nonlinear_month_df[\"month_squared\"] = nonlinear_month_df[\"month\"]**2\n",
    "nonlinear_month_df_exog = nonlinear_month_df.drop(\"price\", axis=1)\n",
    "\n",
    "month_model_2 = sm.OLS(nonlinear_month_df[\"price\"], nonlinear_month_df_exog)\n",
    "month_model_2_result = month_model_2.fit()\n",
    "print(month_model_2_result.summary())"
   ]
  },
  {
   "cell_type": "markdown",
   "metadata": {},
   "source": [
    "# Visualizing Linear and Quadratic Month Models"
   ]
  },
  {
   "cell_type": "markdown",
   "metadata": {},
   "source": [
    "Putting the regressions side by side, we see the quadratic has a much better fit to the data. The R2 value represents what portion of the data's variation the models explain - and it's also much higher for the quadratic model. Considering the small number of features available, I doubt we can get a better fit for the data without overfitting by adding too many polynomial degrees."
   ]
  },
  {
   "cell_type": "code",
   "execution_count": 290,
   "metadata": {},
   "outputs": [
    {
     "data": {
      "text/plain": [
       "Text(2, 170, 'Adj R2: 0.785')"
      ]
     },
     "execution_count": 290,
     "metadata": {},
     "output_type": "execute_result"
    },
    {
     "data": {
      "image/png": "[encoded data removed]",
      "text/plain": [
       "<Figure size 1440x576 with 2 Axes>"
      ]
     },
     "metadata": {
      "needs_background": "light"
     },
     "output_type": "display_data"
    }
   ],
   "source": [
    "fig, ax = plt.subplots(1, 2, figsize = (20,8))\n",
    "\n",
    "sns.regplot(x = month_range, y = avail_df_gb[\"price\"], line_kws={\"color\": \"red\"}, scatter_kws={\"s\": 12}, ax=ax[0])\n",
    "ax[0].set_title(\"Price by Month: Linear Best Fit\")\n",
    "ax[0].set_xlabel(\"Number of Months Elapsed\")\n",
    "ax[0].set_ylabel(\"Average Price\")\n",
    "ax[0].set_ylim(100, 175)\n",
    "\n",
    "sns.regplot(x = month_range, y = avail_df_gb[\"price\"], line_kws={\"color\": \"red\"}, scatter_kws={\"s\": 12}, order=2, ax=ax[1])\n",
    "ax[1].set_title(\"Price by Month: Linear and Quadratic Best Fit\")\n",
    "ax[1].set_xlabel(\"Number of Months Elapsed\")\n",
    "ax[1].set_ylabel(\"Average Price\")\n",
    "ax[1].set_ylim(100, 175)\n",
    "\n",
    "props = dict(boxstyle=\"round\", facecolor=\"white\", alpha=0.5)\n",
    "text0 = \"Adj R2: 0.205\"\n",
    "ax[0].text(2, 170, text0, bbox=props)\n",
    "text1 = \"Adj R2: 0.785\"\n",
    "ax[1].text(2, 170, text1, bbox=props)"
   ]
  },
  {
   "cell_type": "markdown",
   "metadata": {},
   "source": [
    "# Question 3: Are individual listings changing price?\n",
    "\n",
    "If the overall price level is changing with time, it could just be because the composition of the listing pool is changing. I'm interested in whether individual listings change price over the roughly 12 months of the dataset. \n",
    "\n",
    "How can I analyze this?\n",
    "\n",
    "\n",
    "1. I can take fixed effects for those entering each month with `onehotencoder` and then see if a linear (and linear+quadratic) day trend still suggests rising prices.\n",
    "\n",
    "2. Individual fixed effects and a day trend?\n",
    "\n",
    "3. Do more AirBNB hosts enter in the busy months, at higher prices?\n",
    "\n",
    "- I can see when houses make their first listing, and the average price of those entering each month. "
   ]
  },
  {
   "cell_type": "markdown",
   "metadata": {},
   "source": []
  },
  {
   "cell_type": "code",
   "execution_count": 297,
   "metadata": {},
   "outputs": [
    {
     "data": {
      "text/html": [
       "<div>\n",
       "<style scoped>\n",
       "    .dataframe tbody tr th:only-of-type {\n",
       "        vertical-align: middle;\n",
       "    }\n",
       "\n",
       "    .dataframe tbody tr th {\n",
       "        vertical-align: top;\n",
       "    }\n",
       "\n",
       "    .dataframe thead th {\n",
       "        text-align: right;\n",
       "    }\n",
       "</style>\n",
       "<table border=\"1\" class=\"dataframe\">\n",
       "  <thead>\n",
       "    <tr style=\"text-align: right;\">\n",
       "      <th></th>\n",
       "      <th>listing_id</th>\n",
       "      <th>date</th>\n",
       "      <th>available</th>\n",
       "      <th>price</th>\n",
       "      <th>month</th>\n",
       "      <th>year</th>\n",
       "    </tr>\n",
       "  </thead>\n",
       "  <tbody>\n",
       "    <tr>\n",
       "      <th>0</th>\n",
       "      <td>241032</td>\n",
       "      <td>2016-01-04</td>\n",
       "      <td>True</td>\n",
       "      <td>85.0</td>\n",
       "      <td>1</td>\n",
       "      <td>2016</td>\n",
       "    </tr>\n",
       "    <tr>\n",
       "      <th>1</th>\n",
       "      <td>241032</td>\n",
       "      <td>2016-01-05</td>\n",
       "      <td>True</td>\n",
       "      <td>85.0</td>\n",
       "      <td>1</td>\n",
       "      <td>2016</td>\n",
       "    </tr>\n",
       "    <tr>\n",
       "      <th>9</th>\n",
       "      <td>241032</td>\n",
       "      <td>2016-01-13</td>\n",
       "      <td>True</td>\n",
       "      <td>85.0</td>\n",
       "      <td>1</td>\n",
       "      <td>2016</td>\n",
       "    </tr>\n",
       "    <tr>\n",
       "      <th>10</th>\n",
       "      <td>241032</td>\n",
       "      <td>2016-01-14</td>\n",
       "      <td>True</td>\n",
       "      <td>85.0</td>\n",
       "      <td>1</td>\n",
       "      <td>2016</td>\n",
       "    </tr>\n",
       "    <tr>\n",
       "      <th>14</th>\n",
       "      <td>241032</td>\n",
       "      <td>2016-01-18</td>\n",
       "      <td>True</td>\n",
       "      <td>85.0</td>\n",
       "      <td>1</td>\n",
       "      <td>2016</td>\n",
       "    </tr>\n",
       "    <tr>\n",
       "      <th>...</th>\n",
       "      <td>...</td>\n",
       "      <td>...</td>\n",
       "      <td>...</td>\n",
       "      <td>...</td>\n",
       "      <td>...</td>\n",
       "      <td>...</td>\n",
       "    </tr>\n",
       "    <tr>\n",
       "      <th>1393207</th>\n",
       "      <td>10208623</td>\n",
       "      <td>2016-01-06</td>\n",
       "      <td>True</td>\n",
       "      <td>87.0</td>\n",
       "      <td>1</td>\n",
       "      <td>2016</td>\n",
       "    </tr>\n",
       "    <tr>\n",
       "      <th>1393208</th>\n",
       "      <td>10208623</td>\n",
       "      <td>2016-01-07</td>\n",
       "      <td>True</td>\n",
       "      <td>87.0</td>\n",
       "      <td>1</td>\n",
       "      <td>2016</td>\n",
       "    </tr>\n",
       "    <tr>\n",
       "      <th>1393211</th>\n",
       "      <td>10208623</td>\n",
       "      <td>2016-01-10</td>\n",
       "      <td>True</td>\n",
       "      <td>87.0</td>\n",
       "      <td>1</td>\n",
       "      <td>2016</td>\n",
       "    </tr>\n",
       "    <tr>\n",
       "      <th>1393212</th>\n",
       "      <td>10208623</td>\n",
       "      <td>2016-01-11</td>\n",
       "      <td>True</td>\n",
       "      <td>87.0</td>\n",
       "      <td>1</td>\n",
       "      <td>2016</td>\n",
       "    </tr>\n",
       "    <tr>\n",
       "      <th>1393213</th>\n",
       "      <td>10208623</td>\n",
       "      <td>2016-01-12</td>\n",
       "      <td>True</td>\n",
       "      <td>87.0</td>\n",
       "      <td>1</td>\n",
       "      <td>2016</td>\n",
       "    </tr>\n",
       "  </tbody>\n",
       "</table>\n",
       "<p>934542 rows × 6 columns</p>\n",
       "</div>"
      ],
      "text/plain": [
       "         listing_id       date  available  price  month  year\n",
       "0            241032 2016-01-04       True   85.0      1  2016\n",
       "1            241032 2016-01-05       True   85.0      1  2016\n",
       "9            241032 2016-01-13       True   85.0      1  2016\n",
       "10           241032 2016-01-14       True   85.0      1  2016\n",
       "14           241032 2016-01-18       True   85.0      1  2016\n",
       "...             ...        ...        ...    ...    ...   ...\n",
       "1393207    10208623 2016-01-06       True   87.0      1  2016\n",
       "1393208    10208623 2016-01-07       True   87.0      1  2016\n",
       "1393211    10208623 2016-01-10       True   87.0      1  2016\n",
       "1393212    10208623 2016-01-11       True   87.0      1  2016\n",
       "1393213    10208623 2016-01-12       True   87.0      1  2016\n",
       "\n",
       "[934542 rows x 6 columns]"
      ]
     },
     "execution_count": 297,
     "metadata": {},
     "output_type": "execute_result"
    }
   ],
   "source": [
    "cal_df\n",
    "indiv_df = cal_df[cal_df[\"available\"] == True]\n",
    "indiv_df"
   ]
  },
  {
   "cell_type": "markdown",
   "metadata": {},
   "source": [
    "# 1. Entries by month"
   ]
  },
  {
   "cell_type": "code",
   "execution_count": 299,
   "metadata": {},
   "outputs": [
    {
     "data": {
      "text/html": [
       "<div>\n",
       "<style scoped>\n",
       "    .dataframe tbody tr th:only-of-type {\n",
       "        vertical-align: middle;\n",
       "    }\n",
       "\n",
       "    .dataframe tbody tr th {\n",
       "        vertical-align: top;\n",
       "    }\n",
       "\n",
       "    .dataframe thead th {\n",
       "        text-align: right;\n",
       "    }\n",
       "</style>\n",
       "<table border=\"1\" class=\"dataframe\">\n",
       "  <thead>\n",
       "    <tr style=\"text-align: right;\">\n",
       "      <th></th>\n",
       "      <th>date</th>\n",
       "      <th>available</th>\n",
       "      <th>price</th>\n",
       "      <th>month</th>\n",
       "      <th>year</th>\n",
       "    </tr>\n",
       "    <tr>\n",
       "      <th>listing_id</th>\n",
       "      <th></th>\n",
       "      <th></th>\n",
       "      <th></th>\n",
       "      <th></th>\n",
       "      <th></th>\n",
       "    </tr>\n",
       "  </thead>\n",
       "  <tbody>\n",
       "    <tr>\n",
       "      <th>3335</th>\n",
       "      <td>2016-02-29</td>\n",
       "      <td>True</td>\n",
       "      <td>120.0</td>\n",
       "      <td>1</td>\n",
       "      <td>2016</td>\n",
       "    </tr>\n",
       "    <tr>\n",
       "      <th>4291</th>\n",
       "      <td>2016-01-04</td>\n",
       "      <td>True</td>\n",
       "      <td>82.0</td>\n",
       "      <td>1</td>\n",
       "      <td>2016</td>\n",
       "    </tr>\n",
       "    <tr>\n",
       "      <th>5682</th>\n",
       "      <td>2016-01-11</td>\n",
       "      <td>True</td>\n",
       "      <td>42.0</td>\n",
       "      <td>1</td>\n",
       "      <td>2016</td>\n",
       "    </tr>\n",
       "    <tr>\n",
       "      <th>6606</th>\n",
       "      <td>2016-01-04</td>\n",
       "      <td>True</td>\n",
       "      <td>90.0</td>\n",
       "      <td>1</td>\n",
       "      <td>2016</td>\n",
       "    </tr>\n",
       "    <tr>\n",
       "      <th>7369</th>\n",
       "      <td>2016-01-14</td>\n",
       "      <td>True</td>\n",
       "      <td>85.0</td>\n",
       "      <td>1</td>\n",
       "      <td>2016</td>\n",
       "    </tr>\n",
       "    <tr>\n",
       "      <th>...</th>\n",
       "      <td>...</td>\n",
       "      <td>...</td>\n",
       "      <td>...</td>\n",
       "      <td>...</td>\n",
       "      <td>...</td>\n",
       "    </tr>\n",
       "    <tr>\n",
       "      <th>10331249</th>\n",
       "      <td>2016-01-15</td>\n",
       "      <td>True</td>\n",
       "      <td>45.0</td>\n",
       "      <td>1</td>\n",
       "      <td>2016</td>\n",
       "    </tr>\n",
       "    <tr>\n",
       "      <th>10332096</th>\n",
       "      <td>2016-01-04</td>\n",
       "      <td>True</td>\n",
       "      <td>40.0</td>\n",
       "      <td>1</td>\n",
       "      <td>2016</td>\n",
       "    </tr>\n",
       "    <tr>\n",
       "      <th>10334184</th>\n",
       "      <td>2016-01-08</td>\n",
       "      <td>True</td>\n",
       "      <td>120.0</td>\n",
       "      <td>1</td>\n",
       "      <td>2016</td>\n",
       "    </tr>\n",
       "    <tr>\n",
       "      <th>10339145</th>\n",
       "      <td>2016-01-04</td>\n",
       "      <td>True</td>\n",
       "      <td>219.0</td>\n",
       "      <td>1</td>\n",
       "      <td>2016</td>\n",
       "    </tr>\n",
       "    <tr>\n",
       "      <th>10340165</th>\n",
       "      <td>2016-01-11</td>\n",
       "      <td>True</td>\n",
       "      <td>43.0</td>\n",
       "      <td>1</td>\n",
       "      <td>2016</td>\n",
       "    </tr>\n",
       "  </tbody>\n",
       "</table>\n",
       "<p>3723 rows × 5 columns</p>\n",
       "</div>"
      ],
      "text/plain": [
       "                 date  available  price  month  year\n",
       "listing_id                                          \n",
       "3335       2016-02-29       True  120.0      1  2016\n",
       "4291       2016-01-04       True   82.0      1  2016\n",
       "5682       2016-01-11       True   42.0      1  2016\n",
       "6606       2016-01-04       True   90.0      1  2016\n",
       "7369       2016-01-14       True   85.0      1  2016\n",
       "...               ...        ...    ...    ...   ...\n",
       "10331249   2016-01-15       True   45.0      1  2016\n",
       "10332096   2016-01-04       True   40.0      1  2016\n",
       "10334184   2016-01-08       True  120.0      1  2016\n",
       "10339145   2016-01-04       True  219.0      1  2016\n",
       "10340165   2016-01-11       True   43.0      1  2016\n",
       "\n",
       "[3723 rows x 5 columns]"
      ]
     },
     "execution_count": 299,
     "metadata": {},
     "output_type": "execute_result"
    }
   ],
   "source": [
    "indiv_entry_df = indiv_df.groupby(\"listing_id\").min()\n",
    "indiv_entry_df"
   ]
  },
  {
   "cell_type": "code",
   "execution_count": 307,
   "metadata": {},
   "outputs": [
    {
     "data": {
      "text/html": [
       "<div>\n",
       "<style scoped>\n",
       "    .dataframe tbody tr th:only-of-type {\n",
       "        vertical-align: middle;\n",
       "    }\n",
       "\n",
       "    .dataframe tbody tr th {\n",
       "        vertical-align: top;\n",
       "    }\n",
       "\n",
       "    .dataframe thead th {\n",
       "        text-align: right;\n",
       "    }\n",
       "</style>\n",
       "<table border=\"1\" class=\"dataframe\">\n",
       "  <thead>\n",
       "    <tr style=\"text-align: right;\">\n",
       "      <th></th>\n",
       "      <th>listing_id</th>\n",
       "      <th>entry</th>\n",
       "    </tr>\n",
       "  </thead>\n",
       "  <tbody>\n",
       "    <tr>\n",
       "      <th>0</th>\n",
       "      <td>3335</td>\n",
       "      <td>2016-02-29</td>\n",
       "    </tr>\n",
       "    <tr>\n",
       "      <th>1</th>\n",
       "      <td>4291</td>\n",
       "      <td>2016-01-04</td>\n",
       "    </tr>\n",
       "    <tr>\n",
       "      <th>2</th>\n",
       "      <td>5682</td>\n",
       "      <td>2016-01-11</td>\n",
       "    </tr>\n",
       "    <tr>\n",
       "      <th>3</th>\n",
       "      <td>6606</td>\n",
       "      <td>2016-01-04</td>\n",
       "    </tr>\n",
       "    <tr>\n",
       "      <th>4</th>\n",
       "      <td>7369</td>\n",
       "      <td>2016-01-14</td>\n",
       "    </tr>\n",
       "    <tr>\n",
       "      <th>...</th>\n",
       "      <td>...</td>\n",
       "      <td>...</td>\n",
       "    </tr>\n",
       "    <tr>\n",
       "      <th>3718</th>\n",
       "      <td>10331249</td>\n",
       "      <td>2016-01-15</td>\n",
       "    </tr>\n",
       "    <tr>\n",
       "      <th>3719</th>\n",
       "      <td>10332096</td>\n",
       "      <td>2016-01-04</td>\n",
       "    </tr>\n",
       "    <tr>\n",
       "      <th>3720</th>\n",
       "      <td>10334184</td>\n",
       "      <td>2016-01-08</td>\n",
       "    </tr>\n",
       "    <tr>\n",
       "      <th>3721</th>\n",
       "      <td>10339145</td>\n",
       "      <td>2016-01-04</td>\n",
       "    </tr>\n",
       "    <tr>\n",
       "      <th>3722</th>\n",
       "      <td>10340165</td>\n",
       "      <td>2016-01-11</td>\n",
       "    </tr>\n",
       "  </tbody>\n",
       "</table>\n",
       "<p>3723 rows × 2 columns</p>\n",
       "</div>"
      ],
      "text/plain": [
       "      listing_id      entry\n",
       "0           3335 2016-02-29\n",
       "1           4291 2016-01-04\n",
       "2           5682 2016-01-11\n",
       "3           6606 2016-01-04\n",
       "4           7369 2016-01-14\n",
       "...          ...        ...\n",
       "3718    10331249 2016-01-15\n",
       "3719    10332096 2016-01-04\n",
       "3720    10334184 2016-01-08\n",
       "3721    10339145 2016-01-04\n",
       "3722    10340165 2016-01-11\n",
       "\n",
       "[3723 rows x 2 columns]"
      ]
     },
     "execution_count": 307,
     "metadata": {},
     "output_type": "execute_result"
    }
   ],
   "source": [
    "entry_date = indiv_entry_df.reset_index()\n",
    "entry_date = entry_date[[\"listing_id\", \"date\"]]\n",
    "entry_date[\"entry\"] = entry_date[\"date\"]\n",
    "entry_date.drop(\"date\", axis=1, inplace=True)\n",
    "entry_date\n",
    "\n",
    "\n",
    "\n",
    "#entry_date = indiv_entry_df[\"date\"]\n"
   ]
  },
  {
   "cell_type": "code",
   "execution_count": null,
   "metadata": {},
   "outputs": [],
   "source": [
    "#cal_df[\"month\"] = cal_df[\"date\"].dt.month\n",
    "#cal_df[\"year\"] = cal_df[\"date\"].dt.year"
   ]
  },
  {
   "cell_type": "code",
   "execution_count": 334,
   "metadata": {},
   "outputs": [
    {
     "data": {
      "text/html": [
       "<div>\n",
       "<style scoped>\n",
       "    .dataframe tbody tr th:only-of-type {\n",
       "        vertical-align: middle;\n",
       "    }\n",
       "\n",
       "    .dataframe tbody tr th {\n",
       "        vertical-align: top;\n",
       "    }\n",
       "\n",
       "    .dataframe thead th {\n",
       "        text-align: right;\n",
       "    }\n",
       "</style>\n",
       "<table border=\"1\" class=\"dataframe\">\n",
       "  <thead>\n",
       "    <tr style=\"text-align: right;\">\n",
       "      <th></th>\n",
       "      <th>listing_id</th>\n",
       "      <th>date</th>\n",
       "      <th>available</th>\n",
       "      <th>price</th>\n",
       "      <th>month</th>\n",
       "      <th>year</th>\n",
       "      <th>entry</th>\n",
       "      <th>month_entered</th>\n",
       "      <th>day</th>\n",
       "    </tr>\n",
       "  </thead>\n",
       "  <tbody>\n",
       "    <tr>\n",
       "      <th>0</th>\n",
       "      <td>241032</td>\n",
       "      <td>2016-01-04</td>\n",
       "      <td>True</td>\n",
       "      <td>85.0</td>\n",
       "      <td>1</td>\n",
       "      <td>2016</td>\n",
       "      <td>2016-01-04</td>\n",
       "      <td>1</td>\n",
       "      <td>4</td>\n",
       "    </tr>\n",
       "    <tr>\n",
       "      <th>1</th>\n",
       "      <td>241032</td>\n",
       "      <td>2016-01-05</td>\n",
       "      <td>True</td>\n",
       "      <td>85.0</td>\n",
       "      <td>1</td>\n",
       "      <td>2016</td>\n",
       "      <td>2016-01-04</td>\n",
       "      <td>1</td>\n",
       "      <td>5</td>\n",
       "    </tr>\n",
       "    <tr>\n",
       "      <th>2</th>\n",
       "      <td>241032</td>\n",
       "      <td>2016-01-13</td>\n",
       "      <td>True</td>\n",
       "      <td>85.0</td>\n",
       "      <td>1</td>\n",
       "      <td>2016</td>\n",
       "      <td>2016-01-04</td>\n",
       "      <td>1</td>\n",
       "      <td>13</td>\n",
       "    </tr>\n",
       "    <tr>\n",
       "      <th>3</th>\n",
       "      <td>241032</td>\n",
       "      <td>2016-01-14</td>\n",
       "      <td>True</td>\n",
       "      <td>85.0</td>\n",
       "      <td>1</td>\n",
       "      <td>2016</td>\n",
       "      <td>2016-01-04</td>\n",
       "      <td>1</td>\n",
       "      <td>14</td>\n",
       "    </tr>\n",
       "    <tr>\n",
       "      <th>4</th>\n",
       "      <td>241032</td>\n",
       "      <td>2016-01-18</td>\n",
       "      <td>True</td>\n",
       "      <td>85.0</td>\n",
       "      <td>1</td>\n",
       "      <td>2016</td>\n",
       "      <td>2016-01-04</td>\n",
       "      <td>1</td>\n",
       "      <td>18</td>\n",
       "    </tr>\n",
       "    <tr>\n",
       "      <th>...</th>\n",
       "      <td>...</td>\n",
       "      <td>...</td>\n",
       "      <td>...</td>\n",
       "      <td>...</td>\n",
       "      <td>...</td>\n",
       "      <td>...</td>\n",
       "      <td>...</td>\n",
       "      <td>...</td>\n",
       "      <td>...</td>\n",
       "    </tr>\n",
       "    <tr>\n",
       "      <th>934537</th>\n",
       "      <td>10208623</td>\n",
       "      <td>2016-01-06</td>\n",
       "      <td>True</td>\n",
       "      <td>87.0</td>\n",
       "      <td>1</td>\n",
       "      <td>2016</td>\n",
       "      <td>2016-01-04</td>\n",
       "      <td>1</td>\n",
       "      <td>6</td>\n",
       "    </tr>\n",
       "    <tr>\n",
       "      <th>934538</th>\n",
       "      <td>10208623</td>\n",
       "      <td>2016-01-07</td>\n",
       "      <td>True</td>\n",
       "      <td>87.0</td>\n",
       "      <td>1</td>\n",
       "      <td>2016</td>\n",
       "      <td>2016-01-04</td>\n",
       "      <td>1</td>\n",
       "      <td>7</td>\n",
       "    </tr>\n",
       "    <tr>\n",
       "      <th>934539</th>\n",
       "      <td>10208623</td>\n",
       "      <td>2016-01-10</td>\n",
       "      <td>True</td>\n",
       "      <td>87.0</td>\n",
       "      <td>1</td>\n",
       "      <td>2016</td>\n",
       "      <td>2016-01-04</td>\n",
       "      <td>1</td>\n",
       "      <td>10</td>\n",
       "    </tr>\n",
       "    <tr>\n",
       "      <th>934540</th>\n",
       "      <td>10208623</td>\n",
       "      <td>2016-01-11</td>\n",
       "      <td>True</td>\n",
       "      <td>87.0</td>\n",
       "      <td>1</td>\n",
       "      <td>2016</td>\n",
       "      <td>2016-01-04</td>\n",
       "      <td>1</td>\n",
       "      <td>11</td>\n",
       "    </tr>\n",
       "    <tr>\n",
       "      <th>934541</th>\n",
       "      <td>10208623</td>\n",
       "      <td>2016-01-12</td>\n",
       "      <td>True</td>\n",
       "      <td>87.0</td>\n",
       "      <td>1</td>\n",
       "      <td>2016</td>\n",
       "      <td>2016-01-04</td>\n",
       "      <td>1</td>\n",
       "      <td>12</td>\n",
       "    </tr>\n",
       "  </tbody>\n",
       "</table>\n",
       "<p>934542 rows × 9 columns</p>\n",
       "</div>"
      ],
      "text/plain": [
       "        listing_id       date  available  price  month  year      entry  \\\n",
       "0           241032 2016-01-04       True   85.0      1  2016 2016-01-04   \n",
       "1           241032 2016-01-05       True   85.0      1  2016 2016-01-04   \n",
       "2           241032 2016-01-13       True   85.0      1  2016 2016-01-04   \n",
       "3           241032 2016-01-14       True   85.0      1  2016 2016-01-04   \n",
       "4           241032 2016-01-18       True   85.0      1  2016 2016-01-04   \n",
       "...            ...        ...        ...    ...    ...   ...        ...   \n",
       "934537    10208623 2016-01-06       True   87.0      1  2016 2016-01-04   \n",
       "934538    10208623 2016-01-07       True   87.0      1  2016 2016-01-04   \n",
       "934539    10208623 2016-01-10       True   87.0      1  2016 2016-01-04   \n",
       "934540    10208623 2016-01-11       True   87.0      1  2016 2016-01-04   \n",
       "934541    10208623 2016-01-12       True   87.0      1  2016 2016-01-04   \n",
       "\n",
       "        month_entered  day  \n",
       "0                   1    4  \n",
       "1                   1    5  \n",
       "2                   1   13  \n",
       "3                   1   14  \n",
       "4                   1   18  \n",
       "...               ...  ...  \n",
       "934537              1    6  \n",
       "934538              1    7  \n",
       "934539              1   10  \n",
       "934540              1   11  \n",
       "934541              1   12  \n",
       "\n",
       "[934542 rows x 9 columns]"
      ]
     },
     "execution_count": 334,
     "metadata": {},
     "output_type": "execute_result"
    }
   ],
   "source": [
    "month_entry_df = indiv_df.merge(entry_date, on=\"listing_id\")\n",
    "month_entry_df[\"month_entered\"] = month_entry_df[\"entry\"].dt.month\n",
    "month_entry_df[\"day\"] = month_entry_df[\"date\"].dt.day\n",
    "month_entry_df"
   ]
  },
  {
   "cell_type": "code",
   "execution_count": 339,
   "metadata": {},
   "outputs": [
    {
     "ename": "KeyError",
     "evalue": "'day_sq'",
     "output_type": "error",
     "traceback": [
      "\u001b[1;31m---------------------------------------------------------------------------\u001b[0m",
      "\u001b[1;31mKeyError\u001b[0m                                  Traceback (most recent call last)",
      "File \u001b[1;32mc:\\Users\\jonah\\anaconda3\\lib\\site-packages\\pandas\\core\\indexes\\base.py:3621\u001b[0m, in \u001b[0;36mIndex.get_loc\u001b[1;34m(self, key, method, tolerance)\u001b[0m\n\u001b[0;32m   3620\u001b[0m \u001b[39mtry\u001b[39;00m:\n\u001b[1;32m-> 3621\u001b[0m     \u001b[39mreturn\u001b[39;00m \u001b[39mself\u001b[39;49m\u001b[39m.\u001b[39;49m_engine\u001b[39m.\u001b[39;49mget_loc(casted_key)\n\u001b[0;32m   3622\u001b[0m \u001b[39mexcept\u001b[39;00m \u001b[39mKeyError\u001b[39;00m \u001b[39mas\u001b[39;00m err:\n",
      "File \u001b[1;32mc:\\Users\\jonah\\anaconda3\\lib\\site-packages\\pandas\\_libs\\index.pyx:136\u001b[0m, in \u001b[0;36mpandas._libs.index.IndexEngine.get_loc\u001b[1;34m()\u001b[0m\n",
      "File \u001b[1;32mc:\\Users\\jonah\\anaconda3\\lib\\site-packages\\pandas\\_libs\\index.pyx:163\u001b[0m, in \u001b[0;36mpandas._libs.index.IndexEngine.get_loc\u001b[1;34m()\u001b[0m\n",
      "File \u001b[1;32mpandas\\_libs\\hashtable_class_helper.pxi:5198\u001b[0m, in \u001b[0;36mpandas._libs.hashtable.PyObjectHashTable.get_item\u001b[1;34m()\u001b[0m\n",
      "File \u001b[1;32mpandas\\_libs\\hashtable_class_helper.pxi:5206\u001b[0m, in \u001b[0;36mpandas._libs.hashtable.PyObjectHashTable.get_item\u001b[1;34m()\u001b[0m\n",
      "\u001b[1;31mKeyError\u001b[0m: 'day_sq'",
      "\nThe above exception was the direct cause of the following exception:\n",
      "\u001b[1;31mKeyError\u001b[0m                                  Traceback (most recent call last)",
      "\u001b[1;32mc:\\Users\\jonah\\Documents\\DataScienceBlogpostProject\\seattle_airbnb_analysis.ipynb Cell 73\u001b[0m in \u001b[0;36m<cell line: 2>\u001b[1;34m()\u001b[0m\n\u001b[0;32m      <a href='vscode-notebook-cell:/c%3A/Users/jonah/Documents/DataScienceBlogpostProject/seattle_airbnb_analysis.ipynb#Y232sZmlsZQ%3D%3D?line=0'>1</a>\u001b[0m month_entry_df[\u001b[39m\"\u001b[39m\u001b[39mday\u001b[39m\u001b[39m\"\u001b[39m] \u001b[39m=\u001b[39m pd\u001b[39m.\u001b[39mto_numeric(month_entry_df[\u001b[39m\"\u001b[39m\u001b[39mday\u001b[39m\u001b[39m\"\u001b[39m])\n\u001b[1;32m----> <a href='vscode-notebook-cell:/c%3A/Users/jonah/Documents/DataScienceBlogpostProject/seattle_airbnb_analysis.ipynb#Y232sZmlsZQ%3D%3D?line=1'>2</a>\u001b[0m month_entry_df[\u001b[39m\"\u001b[39;49m\u001b[39mday_sq\u001b[39;49m\u001b[39m\"\u001b[39;49m] \u001b[39m==\u001b[39m month_entry_df[\u001b[39m\"\u001b[39m\u001b[39mday\u001b[39m\u001b[39m\"\u001b[39m]\u001b[39m*\u001b[39m\u001b[39m*\u001b[39m\u001b[39m2\u001b[39m\n",
      "File \u001b[1;32mc:\\Users\\jonah\\anaconda3\\lib\\site-packages\\pandas\\core\\frame.py:3505\u001b[0m, in \u001b[0;36mDataFrame.__getitem__\u001b[1;34m(self, key)\u001b[0m\n\u001b[0;32m   3503\u001b[0m \u001b[39mif\u001b[39;00m \u001b[39mself\u001b[39m\u001b[39m.\u001b[39mcolumns\u001b[39m.\u001b[39mnlevels \u001b[39m>\u001b[39m \u001b[39m1\u001b[39m:\n\u001b[0;32m   3504\u001b[0m     \u001b[39mreturn\u001b[39;00m \u001b[39mself\u001b[39m\u001b[39m.\u001b[39m_getitem_multilevel(key)\n\u001b[1;32m-> 3505\u001b[0m indexer \u001b[39m=\u001b[39m \u001b[39mself\u001b[39;49m\u001b[39m.\u001b[39;49mcolumns\u001b[39m.\u001b[39;49mget_loc(key)\n\u001b[0;32m   3506\u001b[0m \u001b[39mif\u001b[39;00m is_integer(indexer):\n\u001b[0;32m   3507\u001b[0m     indexer \u001b[39m=\u001b[39m [indexer]\n",
      "File \u001b[1;32mc:\\Users\\jonah\\anaconda3\\lib\\site-packages\\pandas\\core\\indexes\\base.py:3623\u001b[0m, in \u001b[0;36mIndex.get_loc\u001b[1;34m(self, key, method, tolerance)\u001b[0m\n\u001b[0;32m   3621\u001b[0m     \u001b[39mreturn\u001b[39;00m \u001b[39mself\u001b[39m\u001b[39m.\u001b[39m_engine\u001b[39m.\u001b[39mget_loc(casted_key)\n\u001b[0;32m   3622\u001b[0m \u001b[39mexcept\u001b[39;00m \u001b[39mKeyError\u001b[39;00m \u001b[39mas\u001b[39;00m err:\n\u001b[1;32m-> 3623\u001b[0m     \u001b[39mraise\u001b[39;00m \u001b[39mKeyError\u001b[39;00m(key) \u001b[39mfrom\u001b[39;00m \u001b[39merr\u001b[39;00m\n\u001b[0;32m   3624\u001b[0m \u001b[39mexcept\u001b[39;00m \u001b[39mTypeError\u001b[39;00m:\n\u001b[0;32m   3625\u001b[0m     \u001b[39m# If we have a listlike key, _check_indexing_error will raise\u001b[39;00m\n\u001b[0;32m   3626\u001b[0m     \u001b[39m#  InvalidIndexError. Otherwise we fall through and re-raise\u001b[39;00m\n\u001b[0;32m   3627\u001b[0m     \u001b[39m#  the TypeError.\u001b[39;00m\n\u001b[0;32m   3628\u001b[0m     \u001b[39mself\u001b[39m\u001b[39m.\u001b[39m_check_indexing_error(key)\n",
      "\u001b[1;31mKeyError\u001b[0m: 'day_sq'"
     ]
    }
   ],
   "source": [
    "month_entry_df[\"day\"] = pd.to_numeric(month_entry_df[\"day\"])\n",
    "month_entry_df[\"day_sq\"] == month_entry_df[\"day\"]**2\n"
   ]
  },
  {
   "cell_type": "code",
   "execution_count": 337,
   "metadata": {},
   "outputs": [
    {
     "ename": "KeyError",
     "evalue": "'day_sq'",
     "output_type": "error",
     "traceback": [
      "\u001b[1;31m---------------------------------------------------------------------------\u001b[0m",
      "\u001b[1;31mKeyError\u001b[0m                                  Traceback (most recent call last)",
      "File \u001b[1;32mc:\\Users\\jonah\\anaconda3\\lib\\site-packages\\pandas\\core\\indexes\\base.py:3621\u001b[0m, in \u001b[0;36mIndex.get_loc\u001b[1;34m(self, key, method, tolerance)\u001b[0m\n\u001b[0;32m   3620\u001b[0m \u001b[39mtry\u001b[39;00m:\n\u001b[1;32m-> 3621\u001b[0m     \u001b[39mreturn\u001b[39;00m \u001b[39mself\u001b[39;49m\u001b[39m.\u001b[39;49m_engine\u001b[39m.\u001b[39;49mget_loc(casted_key)\n\u001b[0;32m   3622\u001b[0m \u001b[39mexcept\u001b[39;00m \u001b[39mKeyError\u001b[39;00m \u001b[39mas\u001b[39;00m err:\n",
      "File \u001b[1;32mc:\\Users\\jonah\\anaconda3\\lib\\site-packages\\pandas\\_libs\\index.pyx:136\u001b[0m, in \u001b[0;36mpandas._libs.index.IndexEngine.get_loc\u001b[1;34m()\u001b[0m\n",
      "File \u001b[1;32mc:\\Users\\jonah\\anaconda3\\lib\\site-packages\\pandas\\_libs\\index.pyx:163\u001b[0m, in \u001b[0;36mpandas._libs.index.IndexEngine.get_loc\u001b[1;34m()\u001b[0m\n",
      "File \u001b[1;32mpandas\\_libs\\hashtable_class_helper.pxi:5198\u001b[0m, in \u001b[0;36mpandas._libs.hashtable.PyObjectHashTable.get_item\u001b[1;34m()\u001b[0m\n",
      "File \u001b[1;32mpandas\\_libs\\hashtable_class_helper.pxi:5206\u001b[0m, in \u001b[0;36mpandas._libs.hashtable.PyObjectHashTable.get_item\u001b[1;34m()\u001b[0m\n",
      "\u001b[1;31mKeyError\u001b[0m: 'day_sq'",
      "\nThe above exception was the direct cause of the following exception:\n",
      "\u001b[1;31mKeyError\u001b[0m                                  Traceback (most recent call last)",
      "\u001b[1;32mc:\\Users\\jonah\\Documents\\DataScienceBlogpostProject\\seattle_airbnb_analysis.ipynb Cell 74\u001b[0m in \u001b[0;36m<cell line: 1>\u001b[1;34m()\u001b[0m\n\u001b[1;32m----> <a href='vscode-notebook-cell:/c%3A/Users/jonah/Documents/DataScienceBlogpostProject/seattle_airbnb_analysis.ipynb#Y231sZmlsZQ%3D%3D?line=0'>1</a>\u001b[0m month_entry_df[\u001b[39m\"\u001b[39;49m\u001b[39mday_sq\u001b[39;49m\u001b[39m\"\u001b[39;49m] \u001b[39m==\u001b[39m month_entry_df[\u001b[39m\"\u001b[39m\u001b[39mday\u001b[39m\u001b[39m\"\u001b[39m]\u001b[39m*\u001b[39m\u001b[39m*\u001b[39m\u001b[39m2\u001b[39m\n",
      "File \u001b[1;32mc:\\Users\\jonah\\anaconda3\\lib\\site-packages\\pandas\\core\\frame.py:3505\u001b[0m, in \u001b[0;36mDataFrame.__getitem__\u001b[1;34m(self, key)\u001b[0m\n\u001b[0;32m   3503\u001b[0m \u001b[39mif\u001b[39;00m \u001b[39mself\u001b[39m\u001b[39m.\u001b[39mcolumns\u001b[39m.\u001b[39mnlevels \u001b[39m>\u001b[39m \u001b[39m1\u001b[39m:\n\u001b[0;32m   3504\u001b[0m     \u001b[39mreturn\u001b[39;00m \u001b[39mself\u001b[39m\u001b[39m.\u001b[39m_getitem_multilevel(key)\n\u001b[1;32m-> 3505\u001b[0m indexer \u001b[39m=\u001b[39m \u001b[39mself\u001b[39;49m\u001b[39m.\u001b[39;49mcolumns\u001b[39m.\u001b[39;49mget_loc(key)\n\u001b[0;32m   3506\u001b[0m \u001b[39mif\u001b[39;00m is_integer(indexer):\n\u001b[0;32m   3507\u001b[0m     indexer \u001b[39m=\u001b[39m [indexer]\n",
      "File \u001b[1;32mc:\\Users\\jonah\\anaconda3\\lib\\site-packages\\pandas\\core\\indexes\\base.py:3623\u001b[0m, in \u001b[0;36mIndex.get_loc\u001b[1;34m(self, key, method, tolerance)\u001b[0m\n\u001b[0;32m   3621\u001b[0m     \u001b[39mreturn\u001b[39;00m \u001b[39mself\u001b[39m\u001b[39m.\u001b[39m_engine\u001b[39m.\u001b[39mget_loc(casted_key)\n\u001b[0;32m   3622\u001b[0m \u001b[39mexcept\u001b[39;00m \u001b[39mKeyError\u001b[39;00m \u001b[39mas\u001b[39;00m err:\n\u001b[1;32m-> 3623\u001b[0m     \u001b[39mraise\u001b[39;00m \u001b[39mKeyError\u001b[39;00m(key) \u001b[39mfrom\u001b[39;00m \u001b[39merr\u001b[39;00m\n\u001b[0;32m   3624\u001b[0m \u001b[39mexcept\u001b[39;00m \u001b[39mTypeError\u001b[39;00m:\n\u001b[0;32m   3625\u001b[0m     \u001b[39m# If we have a listlike key, _check_indexing_error will raise\u001b[39;00m\n\u001b[0;32m   3626\u001b[0m     \u001b[39m#  InvalidIndexError. Otherwise we fall through and re-raise\u001b[39;00m\n\u001b[0;32m   3627\u001b[0m     \u001b[39m#  the TypeError.\u001b[39;00m\n\u001b[0;32m   3628\u001b[0m     \u001b[39mself\u001b[39m\u001b[39m.\u001b[39m_check_indexing_error(key)\n",
      "\u001b[1;31mKeyError\u001b[0m: 'day_sq'"
     ]
    }
   ],
   "source": [
    "month_entry_df[\"day_sq\"] == month_entry_df[\"day\"]**2\n"
   ]
  },
  {
   "cell_type": "code",
   "execution_count": 330,
   "metadata": {},
   "outputs": [
    {
     "data": {
      "text/plain": [
       "0          16\n",
       "1          25\n",
       "2         169\n",
       "3         196\n",
       "4         324\n",
       "         ... \n",
       "934537     36\n",
       "934538     49\n",
       "934539    100\n",
       "934540    121\n",
       "934541    144\n",
       "Name: day, Length: 934542, dtype: int64"
      ]
     },
     "execution_count": 330,
     "metadata": {},
     "output_type": "execute_result"
    }
   ],
   "source": [
    "month_entry_df[\"day\"]**2"
   ]
  },
  {
   "cell_type": "code",
   "execution_count": 324,
   "metadata": {},
   "outputs": [
    {
     "data": {
      "text/html": [
       "<div>\n",
       "<style scoped>\n",
       "    .dataframe tbody tr th:only-of-type {\n",
       "        vertical-align: middle;\n",
       "    }\n",
       "\n",
       "    .dataframe tbody tr th {\n",
       "        vertical-align: top;\n",
       "    }\n",
       "\n",
       "    .dataframe thead th {\n",
       "        text-align: right;\n",
       "    }\n",
       "</style>\n",
       "<table border=\"1\" class=\"dataframe\">\n",
       "  <thead>\n",
       "    <tr style=\"text-align: right;\">\n",
       "      <th></th>\n",
       "      <th>listing_id</th>\n",
       "      <th>date</th>\n",
       "      <th>available</th>\n",
       "      <th>price</th>\n",
       "      <th>month</th>\n",
       "      <th>year</th>\n",
       "      <th>entry</th>\n",
       "    </tr>\n",
       "  </thead>\n",
       "  <tbody>\n",
       "    <tr>\n",
       "      <th>934268</th>\n",
       "      <td>10267360</td>\n",
       "      <td>2016-01-05</td>\n",
       "      <td>True</td>\n",
       "      <td>93.0</td>\n",
       "      <td>1</td>\n",
       "      <td>2016</td>\n",
       "      <td>2016-01-05</td>\n",
       "    </tr>\n",
       "    <tr>\n",
       "      <th>934269</th>\n",
       "      <td>10267360</td>\n",
       "      <td>2016-01-06</td>\n",
       "      <td>True</td>\n",
       "      <td>93.0</td>\n",
       "      <td>1</td>\n",
       "      <td>2016</td>\n",
       "      <td>2016-01-05</td>\n",
       "    </tr>\n",
       "    <tr>\n",
       "      <th>934270</th>\n",
       "      <td>10267360</td>\n",
       "      <td>2016-01-07</td>\n",
       "      <td>True</td>\n",
       "      <td>93.0</td>\n",
       "      <td>1</td>\n",
       "      <td>2016</td>\n",
       "      <td>2016-01-05</td>\n",
       "    </tr>\n",
       "    <tr>\n",
       "      <th>934271</th>\n",
       "      <td>10267360</td>\n",
       "      <td>2016-01-08</td>\n",
       "      <td>True</td>\n",
       "      <td>75.0</td>\n",
       "      <td>1</td>\n",
       "      <td>2016</td>\n",
       "      <td>2016-01-05</td>\n",
       "    </tr>\n",
       "    <tr>\n",
       "      <th>934272</th>\n",
       "      <td>10267360</td>\n",
       "      <td>2016-01-09</td>\n",
       "      <td>True</td>\n",
       "      <td>75.0</td>\n",
       "      <td>1</td>\n",
       "      <td>2016</td>\n",
       "      <td>2016-01-05</td>\n",
       "    </tr>\n",
       "    <tr>\n",
       "      <th>...</th>\n",
       "      <td>...</td>\n",
       "      <td>...</td>\n",
       "      <td>...</td>\n",
       "      <td>...</td>\n",
       "      <td>...</td>\n",
       "      <td>...</td>\n",
       "      <td>...</td>\n",
       "    </tr>\n",
       "    <tr>\n",
       "      <th>934351</th>\n",
       "      <td>10267360</td>\n",
       "      <td>2016-03-28</td>\n",
       "      <td>True</td>\n",
       "      <td>93.0</td>\n",
       "      <td>3</td>\n",
       "      <td>2016</td>\n",
       "      <td>2016-01-05</td>\n",
       "    </tr>\n",
       "    <tr>\n",
       "      <th>934352</th>\n",
       "      <td>10267360</td>\n",
       "      <td>2016-03-29</td>\n",
       "      <td>True</td>\n",
       "      <td>93.0</td>\n",
       "      <td>3</td>\n",
       "      <td>2016</td>\n",
       "      <td>2016-01-05</td>\n",
       "    </tr>\n",
       "    <tr>\n",
       "      <th>934353</th>\n",
       "      <td>10267360</td>\n",
       "      <td>2016-03-30</td>\n",
       "      <td>True</td>\n",
       "      <td>93.0</td>\n",
       "      <td>3</td>\n",
       "      <td>2016</td>\n",
       "      <td>2016-01-05</td>\n",
       "    </tr>\n",
       "    <tr>\n",
       "      <th>934354</th>\n",
       "      <td>10267360</td>\n",
       "      <td>2016-03-31</td>\n",
       "      <td>True</td>\n",
       "      <td>93.0</td>\n",
       "      <td>3</td>\n",
       "      <td>2016</td>\n",
       "      <td>2016-01-05</td>\n",
       "    </tr>\n",
       "    <tr>\n",
       "      <th>934355</th>\n",
       "      <td>10267360</td>\n",
       "      <td>2016-04-01</td>\n",
       "      <td>True</td>\n",
       "      <td>75.0</td>\n",
       "      <td>4</td>\n",
       "      <td>2016</td>\n",
       "      <td>2016-01-05</td>\n",
       "    </tr>\n",
       "  </tbody>\n",
       "</table>\n",
       "<p>88 rows × 7 columns</p>\n",
       "</div>"
      ],
      "text/plain": [
       "        listing_id       date  available  price  month  year      entry\n",
       "934268    10267360 2016-01-05       True   93.0      1  2016 2016-01-05\n",
       "934269    10267360 2016-01-06       True   93.0      1  2016 2016-01-05\n",
       "934270    10267360 2016-01-07       True   93.0      1  2016 2016-01-05\n",
       "934271    10267360 2016-01-08       True   75.0      1  2016 2016-01-05\n",
       "934272    10267360 2016-01-09       True   75.0      1  2016 2016-01-05\n",
       "...            ...        ...        ...    ...    ...   ...        ...\n",
       "934351    10267360 2016-03-28       True   93.0      3  2016 2016-01-05\n",
       "934352    10267360 2016-03-29       True   93.0      3  2016 2016-01-05\n",
       "934353    10267360 2016-03-30       True   93.0      3  2016 2016-01-05\n",
       "934354    10267360 2016-03-31       True   93.0      3  2016 2016-01-05\n",
       "934355    10267360 2016-04-01       True   75.0      4  2016 2016-01-05\n",
       "\n",
       "[88 rows x 7 columns]"
      ]
     },
     "execution_count": 324,
     "metadata": {},
     "output_type": "execute_result"
    }
   ],
   "source": [
    "month_entry_model_df = month_entry_df[[\"price\", \"month_entered\", \"day\"]]"
   ]
  },
  {
   "cell_type": "code",
   "execution_count": 321,
   "metadata": {},
   "outputs": [
    {
     "data": {
      "text/plain": [
       "array([  241032,   953595,  3308979, ..., 10267360,  9604740, 10208623],\n",
       "      dtype=int64)"
      ]
     },
     "execution_count": 321,
     "metadata": {},
     "output_type": "execute_result"
    }
   ],
   "source": [
    "month_entry_df[\"listing_id\"].unique()"
   ]
  },
  {
   "cell_type": "code",
   "execution_count": null,
   "metadata": {},
   "outputs": [],
   "source": []
  }
 ],
 "metadata": {
  "kernelspec": {
   "display_name": "Python 3.9.12 ('base')",
   "language": "python",
   "name": "python3"
  },
  "language_info": {
   "codemirror_mode": {
    "name": "ipython",
    "version": 3
   },
   "file_extension": ".py",
   "mimetype": "text/x-python",
   "name": "python",
   "nbconvert_exporter": "python",
   "pygments_lexer": "ipython3",
   "version": "3.9.12"
  },
  "orig_nbformat": 4,
  "vscode": {
   "interpreter": {
    "hash": "4c1b322633f2dd839790658b796d07cb80abeebac18445d6b91f7ab3fc6174a9"
   }
  }
 },
 "nbformat": 4,
 "nbformat_minor": 2
}
